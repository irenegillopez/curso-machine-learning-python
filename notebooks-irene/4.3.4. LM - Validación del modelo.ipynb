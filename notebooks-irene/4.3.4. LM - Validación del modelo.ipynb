{
 "cells": [
  {
   "cell_type": "markdown",
   "metadata": {},
   "source": [
    "# Validación del modelo:\n",
    "\n",
    "La eficacia del modelo puede variar conforme cogemos otros datos.\n",
    "Para ver si tenemos un problema de Overfitting (si el modelo se ajusta DEMASIADO bien) al conjunto de datos que le hemos proporcionado, pero no es capaz de modelar datos que no formen parte del dataset original \n",
    "\n",
    "Para validar esto, dividimos el conjunto de datos en 2, un conjunto de entrenamiento y otro de testing:\n",
    "\n",
    "**Explicación R. Lineal ->** https://www.notion.so/Regresi-n-lineal-39b5e113aa01468a8963932b5ec26123\n",
    "\n",
    "**Librerías, Funciones:**\n",
    "- *Pandas* -> .read_csv,\n",
    "- *Python* -> .mean(), .str, .summary, .len()\n",
    "- *Numpy* -> .sqrt, .mean(), .sum(), .random.randn\n",
    "- *statsmodels.formula.api* -> smf.ols, .predict(),\n",
    "\n",
    "**Índice:**\n",
    "\n",
    "0. Preparación **previa**\n",
    "1. Dividimos el dataset en **2 conjuntos** (training, testing)\n",
    "2. **Creamos el modelo** con el subconjunto de **Training**\n",
    "3. **Validamos el modelo** con el conjunto de **Testing**\n"
   ]
  },
  {
   "cell_type": "markdown",
   "metadata": {},
   "source": [
    "# 0. Preparación previa"
   ]
  },
  {
   "cell_type": "code",
   "execution_count": 19,
   "metadata": {},
   "outputs": [],
   "source": [
    "%config IPCompleter.greedy=True  #Para permitir el autocompletado en Jupyter\n",
    "\n",
    "import pandas as pd\n",
    "import statsmodels.formula.api as smf\n",
    "import numpy as np"
   ]
  },
  {
   "cell_type": "code",
   "execution_count": 20,
   "metadata": {},
   "outputs": [
    {
     "data": {
      "text/html": [
       "<div>\n",
       "<style scoped>\n",
       "    .dataframe tbody tr th:only-of-type {\n",
       "        vertical-align: middle;\n",
       "    }\n",
       "\n",
       "    .dataframe tbody tr th {\n",
       "        vertical-align: top;\n",
       "    }\n",
       "\n",
       "    .dataframe thead th {\n",
       "        text-align: right;\n",
       "    }\n",
       "</style>\n",
       "<table border=\"1\" class=\"dataframe\">\n",
       "  <thead>\n",
       "    <tr style=\"text-align: right;\">\n",
       "      <th></th>\n",
       "      <th>TV</th>\n",
       "      <th>Radio</th>\n",
       "      <th>Newspaper</th>\n",
       "      <th>Sales</th>\n",
       "    </tr>\n",
       "  </thead>\n",
       "  <tbody>\n",
       "    <tr>\n",
       "      <th>0</th>\n",
       "      <td>230.1</td>\n",
       "      <td>37.8</td>\n",
       "      <td>69.2</td>\n",
       "      <td>22.1</td>\n",
       "    </tr>\n",
       "    <tr>\n",
       "      <th>1</th>\n",
       "      <td>44.5</td>\n",
       "      <td>39.3</td>\n",
       "      <td>45.1</td>\n",
       "      <td>10.4</td>\n",
       "    </tr>\n",
       "  </tbody>\n",
       "</table>\n",
       "</div>"
      ],
      "text/plain": [
       "      TV  Radio  Newspaper  Sales\n",
       "0  230.1   37.8       69.2   22.1\n",
       "1   44.5   39.3       45.1   10.4"
      ]
     },
     "execution_count": 20,
     "metadata": {},
     "output_type": "execute_result"
    }
   ],
   "source": [
    "mainpath = \"/Users/irene/Documents/GitHub/python-ml-course/datasets\"  #Ruta ficheros\n",
    "filename = \"ads/Advertising.csv\" #Fichero a abrir\n",
    "fullpath = mainpath + \"/\" + filename #Ruta completa\n",
    "\n",
    "df = pd.read_csv(fullpath)\n",
    "df.head(2)"
   ]
  },
  {
   "cell_type": "markdown",
   "metadata": {},
   "source": [
    "# 1. Dividimos el dataset en 2 conjuntos (training, testing)"
   ]
  },
  {
   "cell_type": "code",
   "execution_count": 21,
   "metadata": {},
   "outputs": [
    {
     "data": {
      "text/plain": [
       "(200, 163, 37)"
      ]
     },
     "execution_count": 21,
     "metadata": {},
     "output_type": "execute_result"
    }
   ],
   "source": [
    "#Creamos una distrib normal para la división\n",
    "a = np.random.randn(len(df))\n",
    "\n",
    "#Elegimos la condición en base a la que separamos -> 80-20%\n",
    "check = (a<0.8)\n",
    "\n",
    "#Dividimos en subconjuntos\n",
    "training = df[check] #80% para Training\n",
    "testing = df[~check] #20% para Testing (lo que no cumple con la condición)\n",
    "\n",
    "#Comprobamos\n",
    "len(df), len(training), len(testing)"
   ]
  },
  {
   "cell_type": "markdown",
   "metadata": {},
   "source": [
    "# 2. Creamos el modelo con el subconjunto de Training\n",
    "\n",
    "**El modelo lineal obtenido por regresión es:**\n",
    "\n",
    "* **Sales = 2.8107 + 0.0463*TV + 0.1872*Radio**\n",
    "\n",
    "Es un buen modelo, ya que:\n",
    "\n",
    "- **p-values** = 0 -> Súper OK\n",
    "- **R2** -> casi 1 -> Súper OK\n",
    "- **F-stat** -> alto -> Súper OK\n",
    "- **Prob(F-stat)** -> bajísimo -> Súper OK"
   ]
  },
  {
   "cell_type": "code",
   "execution_count": 22,
   "metadata": {},
   "outputs": [
    {
     "data": {
      "text/html": [
       "<table class=\"simpletable\">\n",
       "<caption>OLS Regression Results</caption>\n",
       "<tr>\n",
       "  <th>Dep. Variable:</th>          <td>Sales</td>      <th>  R-squared:         </th> <td>   0.893</td>\n",
       "</tr>\n",
       "<tr>\n",
       "  <th>Model:</th>                   <td>OLS</td>       <th>  Adj. R-squared:    </th> <td>   0.891</td>\n",
       "</tr>\n",
       "<tr>\n",
       "  <th>Method:</th>             <td>Least Squares</td>  <th>  F-statistic:       </th> <td>   666.2</td>\n",
       "</tr>\n",
       "<tr>\n",
       "  <th>Date:</th>             <td>Tue, 09 Feb 2021</td> <th>  Prob (F-statistic):</th> <td>2.62e-78</td>\n",
       "</tr>\n",
       "<tr>\n",
       "  <th>Time:</th>                 <td>14:39:13</td>     <th>  Log-Likelihood:    </th> <td> -316.55</td>\n",
       "</tr>\n",
       "<tr>\n",
       "  <th>No. Observations:</th>      <td>   163</td>      <th>  AIC:               </th> <td>   639.1</td>\n",
       "</tr>\n",
       "<tr>\n",
       "  <th>Df Residuals:</th>          <td>   160</td>      <th>  BIC:               </th> <td>   648.4</td>\n",
       "</tr>\n",
       "<tr>\n",
       "  <th>Df Model:</th>              <td>     2</td>      <th>                     </th>     <td> </td>   \n",
       "</tr>\n",
       "<tr>\n",
       "  <th>Covariance Type:</th>      <td>nonrobust</td>    <th>                     </th>     <td> </td>   \n",
       "</tr>\n",
       "</table>\n",
       "<table class=\"simpletable\">\n",
       "<tr>\n",
       "      <td></td>         <th>coef</th>     <th>std err</th>      <th>t</th>      <th>P>|t|</th>  <th>[0.025</th>    <th>0.975]</th>  \n",
       "</tr>\n",
       "<tr>\n",
       "  <th>Intercept</th> <td>    3.0145</td> <td>    0.324</td> <td>    9.317</td> <td> 0.000</td> <td>    2.376</td> <td>    3.653</td>\n",
       "</tr>\n",
       "<tr>\n",
       "  <th>TV</th>        <td>    0.0454</td> <td>    0.002</td> <td>   29.925</td> <td> 0.000</td> <td>    0.042</td> <td>    0.048</td>\n",
       "</tr>\n",
       "<tr>\n",
       "  <th>Radio</th>     <td>    0.1827</td> <td>    0.009</td> <td>   19.825</td> <td> 0.000</td> <td>    0.164</td> <td>    0.201</td>\n",
       "</tr>\n",
       "</table>\n",
       "<table class=\"simpletable\">\n",
       "<tr>\n",
       "  <th>Omnibus:</th>       <td>49.345</td> <th>  Durbin-Watson:     </th> <td>   2.088</td>\n",
       "</tr>\n",
       "<tr>\n",
       "  <th>Prob(Omnibus):</th> <td> 0.000</td> <th>  Jarque-Bera (JB):  </th> <td> 118.065</td>\n",
       "</tr>\n",
       "<tr>\n",
       "  <th>Skew:</th>          <td>-1.288</td> <th>  Prob(JB):          </th> <td>2.30e-26</td>\n",
       "</tr>\n",
       "<tr>\n",
       "  <th>Kurtosis:</th>      <td> 6.278</td> <th>  Cond. No.          </th> <td>    412.</td>\n",
       "</tr>\n",
       "</table><br/><br/>Notes:<br/>[1] Standard Errors assume that the covariance matrix of the errors is correctly specified."
      ],
      "text/plain": [
       "<class 'statsmodels.iolib.summary.Summary'>\n",
       "\"\"\"\n",
       "                            OLS Regression Results                            \n",
       "==============================================================================\n",
       "Dep. Variable:                  Sales   R-squared:                       0.893\n",
       "Model:                            OLS   Adj. R-squared:                  0.891\n",
       "Method:                 Least Squares   F-statistic:                     666.2\n",
       "Date:                Tue, 09 Feb 2021   Prob (F-statistic):           2.62e-78\n",
       "Time:                        14:39:13   Log-Likelihood:                -316.55\n",
       "No. Observations:                 163   AIC:                             639.1\n",
       "Df Residuals:                     160   BIC:                             648.4\n",
       "Df Model:                           2                                         \n",
       "Covariance Type:            nonrobust                                         \n",
       "==============================================================================\n",
       "                 coef    std err          t      P>|t|      [0.025      0.975]\n",
       "------------------------------------------------------------------------------\n",
       "Intercept      3.0145      0.324      9.317      0.000       2.376       3.653\n",
       "TV             0.0454      0.002     29.925      0.000       0.042       0.048\n",
       "Radio          0.1827      0.009     19.825      0.000       0.164       0.201\n",
       "==============================================================================\n",
       "Omnibus:                       49.345   Durbin-Watson:                   2.088\n",
       "Prob(Omnibus):                  0.000   Jarque-Bera (JB):              118.065\n",
       "Skew:                          -1.288   Prob(JB):                     2.30e-26\n",
       "Kurtosis:                       6.278   Cond. No.                         412.\n",
       "==============================================================================\n",
       "\n",
       "Notes:\n",
       "[1] Standard Errors assume that the covariance matrix of the errors is correctly specified.\n",
       "\"\"\""
      ]
     },
     "execution_count": 22,
     "metadata": {},
     "output_type": "execute_result"
    }
   ],
   "source": [
    "lm = smf.ols(formula=\"Sales~TV+Radio\", data=training).fit()\n",
    "\n",
    "lm.summary() "
   ]
  },
  {
   "cell_type": "code",
   "execution_count": 23,
   "metadata": {},
   "outputs": [
    {
     "name": "stdout",
     "output_type": "stream",
     "text": [
      "El SSD es: 464.0371747819347\n",
      "El RSE es: 1.7030068533000953\n",
      "La media de Y es: 13.631288343558282\n",
      "El Error es: 12.493366807143234%\n"
     ]
    }
   ],
   "source": [
    "sales_pred_training = lm.predict(training)\n",
    "\n",
    "SSD = sum((training[\"Sales\"]-sales_pred_training)**2)\n",
    "RSE = np.sqrt(SSD/(len(training)-2-1)) #2 vars predictoras\n",
    "sales_m = np.mean(training[\"Sales\"])\n",
    "error = (RSE / sales_m)*100\n",
    "\n",
    "print(\"El SSD es: \" + str(SSD))\n",
    "print(\"El RSE es: \" + str(RSE))\n",
    "print(\"La media de Y es: \" + str(sales_m))\n",
    "print(\"El Error es: \" + str(error) + \"%\") #12%"
   ]
  },
  {
   "cell_type": "markdown",
   "metadata": {},
   "source": [
    "# 3. Validamos el modelo con el conjunto de testing\n",
    "\n",
    "No hay mucha diferencia con los datos de errores previos -> súper OK -> no existen problemas de Overfitting -> es un buen modelo."
   ]
  },
  {
   "cell_type": "code",
   "execution_count": 24,
   "metadata": {},
   "outputs": [
    {
     "data": {
      "text/plain": [
       "1     12.213687\n",
       "5     12.342727\n",
       "6     11.616216\n",
       "10     7.073972\n",
       "15    20.596735\n",
       "dtype: float64"
      ]
     },
     "execution_count": 24,
     "metadata": {},
     "output_type": "execute_result"
    }
   ],
   "source": [
    "#Creamos la predicción sobre el subconjunto de Testing\n",
    "\n",
    "sales_pred = lm.predict(testing)\n",
    "sales_pred.head()"
   ]
  },
  {
   "cell_type": "code",
   "execution_count": 25,
   "metadata": {},
   "outputs": [
    {
     "name": "stdout",
     "output_type": "stream",
     "text": [
      "El SSD es: 95.79895257775247\n",
      "El RSE es: 1.6785756617700727\n",
      "La media de Y es: 15.745945945945943\n",
      "El Error es: 10.660367230602935%\n"
     ]
    }
   ],
   "source": [
    "SSD = sum((testing[\"Sales\"]-sales_pred)**2)\n",
    "RSE = np.sqrt(SSD/(len(testing)-2-1)) #2 vars predictoras\n",
    "sales_m = np.mean(testing[\"Sales\"])\n",
    "error = (RSE / sales_m)*100\n",
    "\n",
    "print(\"El SSD es: \" + str(SSD))\n",
    "print(\"El RSE es: \" + str(RSE))\n",
    "print(\"La media de Y es: \" + str(sales_m))\n",
    "print(\"El Error es: \" + str(error) + \"%\") #12%"
   ]
  }
 ],
 "metadata": {
  "kernelspec": {
   "display_name": "Python 3",
   "language": "python",
   "name": "python3"
  },
  "language_info": {
   "codemirror_mode": {
    "name": "ipython",
    "version": 3
   },
   "file_extension": ".py",
   "mimetype": "text/x-python",
   "name": "python",
   "nbconvert_exporter": "python",
   "pygments_lexer": "ipython3",
   "version": "3.8.5"
  }
 },
 "nbformat": 4,
 "nbformat_minor": 4
}
