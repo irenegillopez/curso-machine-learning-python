{
 "cells": [
  {
   "cell_type": "markdown",
   "metadata": {},
   "source": [
    "# Regresión NO lineal\n",
    "\n",
    "Cuadráticas, exponenciales, logarítmicas...\n",
    "\n",
    "Se recomienda transformar la var para ajustarnos a lo que queremos, para saber si es lineal o no, podemos empezar con un plot\n",
    "\n",
    "**Explicación R. Lineal ->** https://www.notion.so/Regresi-n-lineal-39b5e113aa01468a8963932b5ec26123\n",
    "\n",
    "**Librerías, Funciones:**\n",
    "- *Pandas* -> .read_csv, .DataFrame()\n",
    "- *Python* -> .dropna(), .fillna(), .mean(), fit_transformation\n",
    "- *Numpy* -> .sum, .mean, .sqrt\n",
    "- *Matplotlib* -> .plot, .xlabel, .ylabel, .title\n",
    "- *from sklearn.linear_model import LinearRegression* -> LinearRegression(), .intercept_, .coef_, .score(), fit(),.predict\n",
    "- *from sklearn.preprocessing import PolynomialFeatures* -> PolinomialFeatures\n",
    "- *from sklearn import linear_model* -> .score,.fit\n",
    "\n",
    "**Índice:**\n",
    "\n",
    "0. Preparación **previa**\n",
    "1. Representamos la relación entre 2 vars.\n",
    "2. Creamos un modelo:\n",
    "\n",
    "    2.1. Modelo de regresión lineal\n",
    "    \n",
    "    2.2. Modelo de regresión cuadrática\n",
    "    \n",
    "    2.3. Modelo de regresión lineal y cuadrática    \n",
    "    \n",
    "- Extra: minifunción para calcular errores:"
   ]
  },
  {
   "cell_type": "markdown",
   "metadata": {},
   "source": [
    "# 0. Preparación previa"
   ]
  },
  {
   "cell_type": "code",
   "execution_count": 29,
   "metadata": {},
   "outputs": [],
   "source": [
    "%config IPCompleter.greedy=True  #Para permitir el autocompletado en Jupyter\n",
    "\n",
    "import pandas as pd\n",
    "import numpy as np\n",
    "import matplotlib.pyplot as plt\n",
    "from sklearn.linear_model import LinearRegression #Para calcular el lm\n",
    "\n",
    "#Para polinomios:\n",
    "from sklearn.preprocessing import PolynomialFeatures #En el caso de tener polinomios\n",
    "from sklearn import linear_model"
   ]
  },
  {
   "cell_type": "code",
   "execution_count": 30,
   "metadata": {},
   "outputs": [
    {
     "data": {
      "text/html": [
       "<div>\n",
       "<style scoped>\n",
       "    .dataframe tbody tr th:only-of-type {\n",
       "        vertical-align: middle;\n",
       "    }\n",
       "\n",
       "    .dataframe tbody tr th {\n",
       "        vertical-align: top;\n",
       "    }\n",
       "\n",
       "    .dataframe thead th {\n",
       "        text-align: right;\n",
       "    }\n",
       "</style>\n",
       "<table border=\"1\" class=\"dataframe\">\n",
       "  <thead>\n",
       "    <tr style=\"text-align: right;\">\n",
       "      <th></th>\n",
       "      <th>mpg</th>\n",
       "      <th>cylinders</th>\n",
       "      <th>displacement</th>\n",
       "      <th>horsepower</th>\n",
       "      <th>weight</th>\n",
       "      <th>acceleration</th>\n",
       "      <th>model year</th>\n",
       "      <th>origin</th>\n",
       "      <th>car name</th>\n",
       "    </tr>\n",
       "  </thead>\n",
       "  <tbody>\n",
       "    <tr>\n",
       "      <th>0</th>\n",
       "      <td>18.0</td>\n",
       "      <td>8</td>\n",
       "      <td>307.0</td>\n",
       "      <td>130.0</td>\n",
       "      <td>3504</td>\n",
       "      <td>12.0</td>\n",
       "      <td>70</td>\n",
       "      <td>1</td>\n",
       "      <td>chevrolet chevelle malibu</td>\n",
       "    </tr>\n",
       "    <tr>\n",
       "      <th>1</th>\n",
       "      <td>15.0</td>\n",
       "      <td>8</td>\n",
       "      <td>350.0</td>\n",
       "      <td>165.0</td>\n",
       "      <td>3693</td>\n",
       "      <td>11.5</td>\n",
       "      <td>70</td>\n",
       "      <td>1</td>\n",
       "      <td>buick skylark 320</td>\n",
       "    </tr>\n",
       "    <tr>\n",
       "      <th>2</th>\n",
       "      <td>18.0</td>\n",
       "      <td>8</td>\n",
       "      <td>318.0</td>\n",
       "      <td>150.0</td>\n",
       "      <td>3436</td>\n",
       "      <td>11.0</td>\n",
       "      <td>70</td>\n",
       "      <td>1</td>\n",
       "      <td>plymouth satellite</td>\n",
       "    </tr>\n",
       "  </tbody>\n",
       "</table>\n",
       "</div>"
      ],
      "text/plain": [
       "    mpg  cylinders  displacement  horsepower  weight  acceleration  \\\n",
       "0  18.0          8         307.0       130.0    3504          12.0   \n",
       "1  15.0          8         350.0       165.0    3693          11.5   \n",
       "2  18.0          8         318.0       150.0    3436          11.0   \n",
       "\n",
       "   model year  origin                   car name  \n",
       "0          70       1  chevrolet chevelle malibu  \n",
       "1          70       1          buick skylark 320  \n",
       "2          70       1         plymouth satellite  "
      ]
     },
     "execution_count": 30,
     "metadata": {},
     "output_type": "execute_result"
    }
   ],
   "source": [
    "mainpath = \"/Users/irene/Documents/GitHub/python-ml-course/datasets\"  #Ruta ficheros\n",
    "filename = \"auto/auto-mpg.csv\" #Fichero a abrir\n",
    "fullpath = mainpath + \"/\" + filename #Ruta completa\n",
    "\n",
    "df = pd.read_csv(fullpath)\n",
    "df.head(3)\n",
    "\n",
    "#2 vars categóricas -> gender & city tier"
   ]
  },
  {
   "cell_type": "code",
   "execution_count": 31,
   "metadata": {},
   "outputs": [
    {
     "data": {
      "text/plain": [
       "(406, 9)"
      ]
     },
     "execution_count": 31,
     "metadata": {},
     "output_type": "execute_result"
    }
   ],
   "source": [
    " df.shape"
   ]
  },
  {
   "cell_type": "markdown",
   "metadata": {},
   "source": [
    "# 1. Representamos la relación entre 2 vars.\n",
    "\n",
    "Para visualizar la forma de su relación: tal vez exponencial o cuadrática."
   ]
  },
  {
   "cell_type": "code",
   "execution_count": 32,
   "metadata": {},
   "outputs": [
    {
     "data": {
      "text/plain": [
       "Text(0.5, 1.0, 'CV vs MPG')"
      ]
     },
     "execution_count": 32,
     "metadata": {},
     "output_type": "execute_result"
    },
    {
     "data": {
      "image/png": "[encoded data removed]",
      "text/plain": [
       "<Figure size 432x288 with 1 Axes>"
      ]
     },
     "metadata": {
      "needs_background": "light"
     },
     "output_type": "display_data"
    }
   ],
   "source": [
    "#Quitamos las filas con na\n",
    "df[\"mpg\"] = df[\"mpg\"].dropna()  \n",
    "df[\"horsepower\"] = df[\"horsepower\"].dropna() \n",
    "\n",
    "#Representamos\n",
    "plt.plot(df[\"mpg\"],df[\"horsepower\"],\"ro\")\n",
    "\n",
    "#Etiquetamos\n",
    "plt.xlabel(\"Consumo (millas por galeón)\")\n",
    "plt.ylabel(\"Caballos de potencia\")\n",
    "plt.title (\"CV vs MPG\")"
   ]
  },
  {
   "cell_type": "markdown",
   "metadata": {},
   "source": [
    "# 2. Creamos un modelo\n",
    "\n",
    "## 2.1. Modelo de regresión lineal\n",
    "\n",
    "Vamos a suponer que ambas vars. tienen una relación lineal, a ver si se ajusta:\n",
    "\n",
    "* **mpg = a + b * horsepower**"
   ]
  },
  {
   "cell_type": "code",
   "execution_count": 33,
   "metadata": {},
   "outputs": [
    {
     "data": {
      "text/plain": [
       "[<matplotlib.lines.Line2D at 0x7f81c6c7b4f0>]"
      ]
     },
     "execution_count": 33,
     "metadata": {},
     "output_type": "execute_result"
    },
    {
     "data": {
      "image/png": "[encoded data removed]",
      "text/plain": [
       "<Figure size 432x288 with 1 Axes>"
      ]
     },
     "metadata": {
      "needs_background": "light"
     },
     "output_type": "display_data"
    }
   ],
   "source": [
    "#Establecemos las vars. predictoras\n",
    "X = df[\"horsepower\"].fillna(df[\"horsepower\"].mean())\n",
    "Y = df[\"mpg\"].fillna(df[\"mpg\"].mean())\n",
    "\n",
    "#Columna a Array -> LinearRegression espera un array, no una columna\n",
    "X_Array = pd.DataFrame(X) \n",
    "\n",
    "#Creamos el modelo\n",
    "lm = LinearRegression()\n",
    "lm.fit(X_Array,Y)\n",
    "\n",
    "#Representamos la predicción vs. datos actuales\n",
    "plt.plot(X,Y,\"ro\")\n",
    "plt.plot(X, lm.predict(X_Array), color=\"blue\")"
   ]
  },
  {
   "cell_type": "code",
   "execution_count": 34,
   "metadata": {},
   "outputs": [
    {
     "name": "stdout",
     "output_type": "stream",
     "text": [
      "El R2 es: 0.574653340645025\n",
      "\n",
      "El SSD es: 10315.75196006092\n",
      "El RSE es: 5.046879480825511\n",
      "La media de consumo es: 23.51457286432162\n",
      "El Error es: 21.46277336163346%\n"
     ]
    }
   ],
   "source": [
    "R2 = lm.score(X_Array, Y) \n",
    "\n",
    "SSD = np.sum((Y - lm.predict(X_Array))**2)\n",
    "RSE = np.sqrt(SSD/(len(X_Array)-1))\n",
    "y_mean=np.mean(Y)\n",
    "error = (RSE/y_mean)*100\n",
    "\n",
    "print(\"El R2 es: \" + str(R2)) #Regular\n",
    "print(\"\")\n",
    "print(\"El SSD es: \" + str(SSD))\n",
    "print(\"El RSE es: \" + str(RSE))\n",
    "print(\"La media de consumo es: \" + str(y_mean))\n",
    "print(\"El Error es: \" + str(error) + \"%\") #21%, not bad"
   ]
  },
  {
   "cell_type": "markdown",
   "metadata": {},
   "source": [
    "## 2.2. Modelo de regresión cuadrática\n",
    "\n",
    "Probamos con un modelo cuadrático (en lugar de lineal):\n",
    "\n",
    "* **mpg = a + b * horsepower^2** "
   ]
  },
  {
   "cell_type": "code",
   "execution_count": 35,
   "metadata": {},
   "outputs": [
    {
     "data": {
      "text/plain": [
       "[<matplotlib.lines.Line2D at 0x7f81c6b4bca0>]"
      ]
     },
     "execution_count": 35,
     "metadata": {},
     "output_type": "execute_result"
    },
    {
     "data": {
      "image/png": "[encoded data removed]",
      "text/plain": [
       "<Figure size 432x288 with 1 Axes>"
      ]
     },
     "metadata": {
      "needs_background": "light"
     },
     "output_type": "display_data"
    }
   ],
   "source": [
    "#Establecemos las vars. predictoras\n",
    "X_Array2 = X_Array ** 2\n",
    "\n",
    "#Creamos el modelo\n",
    "lm2 = LinearRegression() \n",
    "lm2.fit(X_Array2,Y)\n",
    "\n",
    "#Representamos la predicción vs. datos actuales\n",
    "plt.plot(X,Y,\"ro\")\n",
    "plt.plot(X, lm2.predict(X_Array2), color=\"blue\")"
   ]
  },
  {
   "cell_type": "code",
   "execution_count": 36,
   "metadata": {},
   "outputs": [
    {
     "name": "stdout",
     "output_type": "stream",
     "text": [
      "El R2 es: -96889.34744164819\n",
      "\n",
      "El SSD es: 12490.350340501926\n",
      "El RSE es: 5.553410772769817\n",
      "La media de consumo es: 23.51457286432162\n",
      "El Error es: 23.6168898529981%\n"
     ]
    }
   ],
   "source": [
    "R2 = lm.score(X_Array2, Y) \n",
    "\n",
    "SSD2 = np.sum((Y - lm2.predict(X_Array2))**2)\n",
    "RSE2 = np.sqrt(SSD2/(len(X_Array2)-1))\n",
    "error2 = (RSE2/y_mean)*100\n",
    "\n",
    "print(\"El R2 es: \" + str(R2)) #Peor\n",
    "print(\"\")\n",
    "print(\"El SSD es: \" + str(SSD2))\n",
    "print(\"El RSE es: \" + str(RSE2))\n",
    "print(\"La media de consumo es: \" + str(y_mean))\n",
    "print(\"El Error es: \" + str(error2) + \"%\") #23%, peor, no es cuadrático"
   ]
  },
  {
   "cell_type": "markdown",
   "metadata": {},
   "source": [
    "## 2.3. Modelo de regresión lineal y cuadrática\n",
    "\n",
    "Probamos con un modelo lineal y cuadrático:\n",
    "\n",
    "* **mpg = a + b * horsepower + c * horsepower^2** \n",
    "\n",
    "\n",
    "**El modelo lineal obtenido por regresión es:**\n",
    "\n",
    "- mpg = 55.02619244708036 -0.43404318*horsepower + 0.00112615^2"
   ]
  },
  {
   "cell_type": "code",
   "execution_count": 37,
   "metadata": {},
   "outputs": [
    {
     "data": {
      "text/plain": [
       "[<matplotlib.lines.Line2D at 0x7f81c6efeb80>]"
      ]
     },
     "execution_count": 37,
     "metadata": {},
     "output_type": "execute_result"
    },
    {
     "data": {
      "image/png": "[encoded data removed]",
      "text/plain": [
       "<Figure size 432x288 with 1 Axes>"
      ]
     },
     "metadata": {
      "needs_background": "light"
     },
     "output_type": "display_data"
    }
   ],
   "source": [
    "#Establecemos las vars. predictoras\n",
    "\n",
    "poly = PolynomialFeatures(degree=2) #Polinomio de grado 2\n",
    "X_Array = poly.fit_transform(X_Array)\n",
    "\n",
    "#Creamos el modelo\n",
    "lm3 = linear_model.LinearRegression()\n",
    "lm3.fit(X_Array, Y)\n",
    "\n",
    "#Representamos la predicción vs. datos actuales\n",
    "plt.plot(X,Y,\"ro\")\n",
    "plt.plot(X, lm3.predict(X_Array), color=\"blue\")"
   ]
  },
  {
   "cell_type": "code",
   "execution_count": 38,
   "metadata": {},
   "outputs": [
    {
     "name": "stdout",
     "output_type": "stream",
     "text": [
      "El valor de alpha es: 55.02619244708036\n",
      "El valor de R2 es: 0.6439066584257469\n",
      "El valor de las betas es: [ 0.         -0.43404318  0.00112615]\n"
     ]
    }
   ],
   "source": [
    "#Obtenemos los parámetros del modelo\n",
    "print(\"El valor de alpha es: \" + str(lm3.intercept_)) \n",
    "print(\"El valor de R2 es: \" + str(lm3.score(X_Array,Y))) #El mayor R^2 que hemos obtenido\n",
    "print(\"El valor de las betas es: \" + str(lm3.coef_))"
   ]
  },
  {
   "cell_type": "markdown",
   "metadata": {},
   "source": [
    "# Extra: minifunción para calcular errores:"
   ]
  },
  {
   "cell_type": "code",
   "execution_count": 39,
   "metadata": {},
   "outputs": [],
   "source": [
    "#Hacemos una función para calcular los errores:\n",
    "\n",
    "def Regression_Validation(X_Array, Y, Y_Pred):\n",
    "    SSD = np.sum((Y - Y_Pred)**2)\n",
    "    RSE = np.sqrt(SSD/(len(X_Array)-1))\n",
    "    y_mean = np.mean(Y)\n",
    "    error = (RSE/y_mean)*100\n",
    "    print(\"El SSD es: \" + str(SSD))\n",
    "    print(\"El RSE es: \" + str(RSE))\n",
    "    print(\"La media de Y es: \" + str(y_mean))\n",
    "    print(\"El Error es: \" + str(error) + \"%\")"
   ]
  }
 ],
 "metadata": {
  "kernelspec": {
   "display_name": "Python 3",
   "language": "python",
   "name": "python3"
  },
  "language_info": {
   "codemirror_mode": {
    "name": "ipython",
    "version": 3
   },
   "file_extension": ".py",
   "mimetype": "text/x-python",
   "name": "python",
   "nbconvert_exporter": "python",
   "pygments_lexer": "ipython3",
   "version": "3.8.5"
  }
 },
 "nbformat": 4,
 "nbformat_minor": 4
}
