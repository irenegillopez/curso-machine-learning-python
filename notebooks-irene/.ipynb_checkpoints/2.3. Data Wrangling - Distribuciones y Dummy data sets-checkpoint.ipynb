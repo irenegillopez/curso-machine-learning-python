{
 "cells": [
  {
   "cell_type": "markdown",
   "metadata": {},
   "source": [
    "# Distribuciones y Dummy data sets"
   ]
  },
  {
   "cell_type": "markdown",
   "metadata": {},
   "source": [
    "**Explicación Data Wrangling ->** https://www.notion.so/Data-Wrangling-a336f65b7533411aa28bca300307a963\n",
    "\n",
    "**Explicación Distribuciones y Dummy datasets ->** https://www.notion.so/2-Distribuciones-y-Dummy-data-sets-f7b114f877df49788b2e8aac79d9f21b\n",
    "\n",
    "**Librerías, Funciones:**\n",
    "- *Pandas* -> read_csv, DataFrame\n",
    "- *Python* -> range, tolist, append, float, index, describe\n",
    "- *Numpy* -> sqrt, random [uniform, randomn]\n",
    "- *Matplotlib.pyplot* -> hist, plot\n",
    "\n",
    "**Índice:**\n",
    "\n",
    "0. Preparación previa\n",
    "1. Funciones de distribución de probabilidades\n",
    "1. 1. Distribución **uniforme**\n",
    "1. 2.Distribución **normal**\n",
    "1. 3. Distribución normal - **no tipificada**\n",
    "1. 4. La simulación de **Monte Carlo*\n",
    "2. Generación de **Dummy Data sets**\n"
   ]
  },
  {
   "cell_type": "markdown",
   "metadata": {},
   "source": [
    "## *Preparación previa:*"
   ]
  },
  {
   "cell_type": "code",
   "execution_count": 29,
   "metadata": {},
   "outputs": [],
   "source": [
    "import pandas as pd\n",
    "import numpy as np\n",
    "import matplotlib.pyplot as plt"
   ]
  },
  {
   "cell_type": "code",
   "execution_count": 30,
   "metadata": {},
   "outputs": [],
   "source": [
    "%matplotlib inline "
   ]
  },
  {
   "cell_type": "code",
   "execution_count": 31,
   "metadata": {},
   "outputs": [
    {
     "data": {
      "text/html": [
       "<div>\n",
       "<style scoped>\n",
       "    .dataframe tbody tr th:only-of-type {\n",
       "        vertical-align: middle;\n",
       "    }\n",
       "\n",
       "    .dataframe tbody tr th {\n",
       "        vertical-align: top;\n",
       "    }\n",
       "\n",
       "    .dataframe thead th {\n",
       "        text-align: right;\n",
       "    }\n",
       "</style>\n",
       "<table border=\"1\" class=\"dataframe\">\n",
       "  <thead>\n",
       "    <tr style=\"text-align: right;\">\n",
       "      <th></th>\n",
       "      <th>State</th>\n",
       "      <th>Account Length</th>\n",
       "      <th>Area Code</th>\n",
       "      <th>Phone</th>\n",
       "      <th>Int'l Plan</th>\n",
       "      <th>VMail Plan</th>\n",
       "      <th>VMail Message</th>\n",
       "      <th>Day Mins</th>\n",
       "      <th>Day Calls</th>\n",
       "      <th>Day Charge</th>\n",
       "      <th>...</th>\n",
       "      <th>Eve Calls</th>\n",
       "      <th>Eve Charge</th>\n",
       "      <th>Night Mins</th>\n",
       "      <th>Night Calls</th>\n",
       "      <th>Night Charge</th>\n",
       "      <th>Intl Mins</th>\n",
       "      <th>Intl Calls</th>\n",
       "      <th>Intl Charge</th>\n",
       "      <th>CustServ Calls</th>\n",
       "      <th>Churn?</th>\n",
       "    </tr>\n",
       "  </thead>\n",
       "  <tbody>\n",
       "    <tr>\n",
       "      <th>0</th>\n",
       "      <td>KS</td>\n",
       "      <td>128</td>\n",
       "      <td>415</td>\n",
       "      <td>382-4657</td>\n",
       "      <td>no</td>\n",
       "      <td>yes</td>\n",
       "      <td>25</td>\n",
       "      <td>265.1</td>\n",
       "      <td>110</td>\n",
       "      <td>45.07</td>\n",
       "      <td>...</td>\n",
       "      <td>99</td>\n",
       "      <td>16.78</td>\n",
       "      <td>244.7</td>\n",
       "      <td>91</td>\n",
       "      <td>11.01</td>\n",
       "      <td>10.0</td>\n",
       "      <td>3</td>\n",
       "      <td>2.70</td>\n",
       "      <td>1</td>\n",
       "      <td>False.</td>\n",
       "    </tr>\n",
       "    <tr>\n",
       "      <th>1</th>\n",
       "      <td>OH</td>\n",
       "      <td>107</td>\n",
       "      <td>415</td>\n",
       "      <td>371-7191</td>\n",
       "      <td>no</td>\n",
       "      <td>yes</td>\n",
       "      <td>26</td>\n",
       "      <td>161.6</td>\n",
       "      <td>123</td>\n",
       "      <td>27.47</td>\n",
       "      <td>...</td>\n",
       "      <td>103</td>\n",
       "      <td>16.62</td>\n",
       "      <td>254.4</td>\n",
       "      <td>103</td>\n",
       "      <td>11.45</td>\n",
       "      <td>13.7</td>\n",
       "      <td>3</td>\n",
       "      <td>3.70</td>\n",
       "      <td>1</td>\n",
       "      <td>False.</td>\n",
       "    </tr>\n",
       "    <tr>\n",
       "      <th>2</th>\n",
       "      <td>NJ</td>\n",
       "      <td>137</td>\n",
       "      <td>415</td>\n",
       "      <td>358-1921</td>\n",
       "      <td>no</td>\n",
       "      <td>no</td>\n",
       "      <td>0</td>\n",
       "      <td>243.4</td>\n",
       "      <td>114</td>\n",
       "      <td>41.38</td>\n",
       "      <td>...</td>\n",
       "      <td>110</td>\n",
       "      <td>10.30</td>\n",
       "      <td>162.6</td>\n",
       "      <td>104</td>\n",
       "      <td>7.32</td>\n",
       "      <td>12.2</td>\n",
       "      <td>5</td>\n",
       "      <td>3.29</td>\n",
       "      <td>0</td>\n",
       "      <td>False.</td>\n",
       "    </tr>\n",
       "    <tr>\n",
       "      <th>3</th>\n",
       "      <td>OH</td>\n",
       "      <td>84</td>\n",
       "      <td>408</td>\n",
       "      <td>375-9999</td>\n",
       "      <td>yes</td>\n",
       "      <td>no</td>\n",
       "      <td>0</td>\n",
       "      <td>299.4</td>\n",
       "      <td>71</td>\n",
       "      <td>50.90</td>\n",
       "      <td>...</td>\n",
       "      <td>88</td>\n",
       "      <td>5.26</td>\n",
       "      <td>196.9</td>\n",
       "      <td>89</td>\n",
       "      <td>8.86</td>\n",
       "      <td>6.6</td>\n",
       "      <td>7</td>\n",
       "      <td>1.78</td>\n",
       "      <td>2</td>\n",
       "      <td>False.</td>\n",
       "    </tr>\n",
       "    <tr>\n",
       "      <th>4</th>\n",
       "      <td>OK</td>\n",
       "      <td>75</td>\n",
       "      <td>415</td>\n",
       "      <td>330-6626</td>\n",
       "      <td>yes</td>\n",
       "      <td>no</td>\n",
       "      <td>0</td>\n",
       "      <td>166.7</td>\n",
       "      <td>113</td>\n",
       "      <td>28.34</td>\n",
       "      <td>...</td>\n",
       "      <td>122</td>\n",
       "      <td>12.61</td>\n",
       "      <td>186.9</td>\n",
       "      <td>121</td>\n",
       "      <td>8.41</td>\n",
       "      <td>10.1</td>\n",
       "      <td>3</td>\n",
       "      <td>2.73</td>\n",
       "      <td>3</td>\n",
       "      <td>False.</td>\n",
       "    </tr>\n",
       "  </tbody>\n",
       "</table>\n",
       "<p>5 rows × 21 columns</p>\n",
       "</div>"
      ],
      "text/plain": [
       "  State  Account Length  Area Code     Phone Int'l Plan VMail Plan  \\\n",
       "0    KS             128        415  382-4657         no        yes   \n",
       "1    OH             107        415  371-7191         no        yes   \n",
       "2    NJ             137        415  358-1921         no         no   \n",
       "3    OH              84        408  375-9999        yes         no   \n",
       "4    OK              75        415  330-6626        yes         no   \n",
       "\n",
       "   VMail Message  Day Mins  Day Calls  Day Charge  ...  Eve Calls  Eve Charge  \\\n",
       "0             25     265.1        110       45.07  ...         99       16.78   \n",
       "1             26     161.6        123       27.47  ...        103       16.62   \n",
       "2              0     243.4        114       41.38  ...        110       10.30   \n",
       "3              0     299.4         71       50.90  ...         88        5.26   \n",
       "4              0     166.7        113       28.34  ...        122       12.61   \n",
       "\n",
       "   Night Mins  Night Calls  Night Charge  Intl Mins  Intl Calls  Intl Charge  \\\n",
       "0       244.7           91         11.01       10.0           3         2.70   \n",
       "1       254.4          103         11.45       13.7           3         3.70   \n",
       "2       162.6          104          7.32       12.2           5         3.29   \n",
       "3       196.9           89          8.86        6.6           7         1.78   \n",
       "4       186.9          121          8.41       10.1           3         2.73   \n",
       "\n",
       "   CustServ Calls  Churn?  \n",
       "0               1  False.  \n",
       "1               1  False.  \n",
       "2               0  False.  \n",
       "3               2  False.  \n",
       "4               3  False.  \n",
       "\n",
       "[5 rows x 21 columns]"
      ]
     },
     "execution_count": 31,
     "metadata": {},
     "output_type": "execute_result"
    }
   ],
   "source": [
    "mainpath = \"/Users/irene/Documents/GitHub/python-ml-course/datasets\"  #Ruta ficheros\n",
    "filename1 = \"customer-churn-model/Customer Churn Model.txt\" #Fichero a abrir\n",
    "fullpath1 = mainpath + \"/\" + filename1 #Ruta completa\n",
    "\n",
    "df1 = pd.read_csv(fullpath1)\n",
    "df1.head()"
   ]
  },
  {
   "cell_type": "markdown",
   "metadata": {},
   "source": [
    "# 1. Funciones de distribución de probabilidades\n",
    "\n",
    "## 1.1. Distribución Uniforme"
   ]
  },
  {
   "cell_type": "code",
   "execution_count": 32,
   "metadata": {},
   "outputs": [
    {
     "data": {
      "text/plain": [
       "(array([ 99504., 100017., 100426., 100611.,  99820.,  99739.,  99612.,\n",
       "         99977., 100098., 100196.]),\n",
       " array([ 1.00038179, 10.90033626, 20.80029072, 30.70024519, 40.60019965,\n",
       "        50.50015412, 60.40010858, 70.30006305, 80.20001751, 90.09997197,\n",
       "        99.99992644]),\n",
       " <BarContainer object of 10 artists>)"
      ]
     },
     "execution_count": 32,
     "metadata": {},
     "output_type": "execute_result"
    },
    {
     "data": {
      "image/png": "[encoded data removed]",
      "text/plain": [
       "<Figure size 432x288 with 1 Axes>"
      ]
     },
     "metadata": {
      "needs_background": "light"
     },
     "output_type": "display_data"
    }
   ],
   "source": [
    "a = 1 #Rango inferior\n",
    "b = 100 #Rango superior\n",
    "n = 1000000 #Nº de muestras, a mayor número, más uniforme.\n",
    "\n",
    "df2 = np.random.uniform(a,b,n)\n",
    "\n",
    "plt.hist(df2)"
   ]
  },
  {
   "cell_type": "markdown",
   "metadata": {},
   "source": [
    "## 1.2. Distribución Normal (Campana de Gauss)"
   ]
  },
  {
   "cell_type": "code",
   "execution_count": 33,
   "metadata": {},
   "outputs": [
    {
     "data": {
      "text/plain": [
       "(array([4.20000e+01, 1.31400e+03, 1.88670e+04, 1.17871e+05, 3.12316e+05,\n",
       "        3.49133e+05, 1.64970e+05, 3.26850e+04, 2.71000e+03, 9.20000e+01]),\n",
       " array([-4.94269495, -3.97846811, -3.01424127, -2.05001443, -1.08578759,\n",
       "        -0.12156075,  0.84266609,  1.80689293,  2.77111977,  3.7353466 ,\n",
       "         4.69957344]),\n",
       " <BarContainer object of 10 artists>)"
      ]
     },
     "execution_count": 33,
     "metadata": {},
     "output_type": "execute_result"
    },
    {
     "data": {
      "image/png": "[encoded data removed]",
      "text/plain": [
       "<Figure size 432x288 with 1 Axes>"
      ]
     },
     "metadata": {
      "needs_background": "light"
     },
     "output_type": "display_data"
    }
   ],
   "source": [
    "df3 = np.random.randn(n) #Para generar n valores con forma de distrib normal\n",
    "\n",
    "plt.hist(df3)"
   ]
  },
  {
   "cell_type": "code",
   "execution_count": 34,
   "metadata": {},
   "outputs": [
    {
     "data": {
      "text/plain": [
       "[<matplotlib.lines.Line2D at 0x7fdea0992220>]"
      ]
     },
     "execution_count": 34,
     "metadata": {},
     "output_type": "execute_result"
    },
    {
     "data": {
      "image/png": "[encoded data removed]",
      "text/plain": [
       "<Figure size 432x288 with 1 Axes>"
      ]
     },
     "metadata": {
      "needs_background": "light"
     },
     "output_type": "display_data"
    }
   ],
   "source": [
    "x = range(0,n)\n",
    "plt.plot(x,df3) #Para ver el conjunto de valores que han ido saliendo:"
   ]
  },
  {
   "cell_type": "markdown",
   "metadata": {},
   "source": [
    "### 1.2.1. Distribución normal - no tipificada:\n",
    "\n",
    "Una distribución normal tificada tiene media 0 y desv.típica 1"
   ]
  },
  {
   "cell_type": "code",
   "execution_count": 35,
   "metadata": {},
   "outputs": [
    {
     "data": {
      "text/plain": [
       "(array([4.70000e+01, 1.58200e+03, 2.11830e+04, 1.22542e+05, 3.07949e+05,\n",
       "        3.41396e+05, 1.66520e+05, 3.52810e+04, 3.37600e+03, 1.24000e+02]),\n",
       " array([-6.55305967, -4.20099967, -1.84893968,  0.50312032,  2.85518032,\n",
       "         5.20724032,  7.55930031,  9.91136031, 12.26342031, 14.6154803 ,\n",
       "        16.9675403 ]),\n",
       " <BarContainer object of 10 artists>)"
      ]
     },
     "execution_count": 35,
     "metadata": {},
     "output_type": "execute_result"
    },
    {
     "data": {
      "image/png": "[encoded data removed]",
      "text/plain": [
       "<Figure size 432x288 with 1 Axes>"
      ]
     },
     "metadata": {
      "needs_background": "light"
     },
     "output_type": "display_data"
    }
   ],
   "source": [
    "mu = 5.5 #Media\n",
    "sd = 2.5 #Desviación std\n",
    "Z = np.random.randn(n) #Distribución normal\n",
    "\n",
    "df4 = mu + sd * Z # Th central del límite -> Z = (X-mu) / sd -> X = mu + sd * z\n",
    "plt.hist(df4)"
   ]
  },
  {
   "cell_type": "code",
   "execution_count": 36,
   "metadata": {},
   "outputs": [
    {
     "data": {
      "text/plain": [
       "array([[ 0.67304793, -0.40410864, -0.39723679, -0.49959655],\n",
       "       [-0.03629986,  2.03322586,  0.16950523, -0.66014137]])"
      ]
     },
     "execution_count": 36,
     "metadata": {},
     "output_type": "execute_result"
    }
   ],
   "source": [
    "df5 = np.random.randn(2,4) #Devuélveme 2 colecciones con 4 elementos cada una\n",
    "df5"
   ]
  },
  {
   "cell_type": "markdown",
   "metadata": {},
   "source": [
    "### 1.2.2. La simulación de Monte Carlo\n",
    "\n",
    "**Explicación:** https://www.notion.so/Funciones-de-distribuci-n-de-probabilidades-19b3cd88398641e79155a02474d6f6f9\n",
    "\n",
    "**Pasos:**\n",
    "1. Sobre los 2 ejes (x,y) generamos 1 punto aleatorio (x,y) con valores entre 0 y 1, un total 1000 veces (n)\n",
    "2. Calculamos la distancia de el radio de ese punto respecto al centro -> R = raíz de (x^2 + y^2) (pitágoras) *\n",
    "    2.1. Si R<1 -> estamos dentro del círculo.\n",
    "    2.2. Si R>1 -> estamos fuera del círculo.\n",
    "3. Calculamos el [nº total de veces] que está dentro del círculo y lo dividimos entre el [nº total de intentos] para obtener una aproximación de la P de caer dentro del círculo.\n",
    "4. Usamos dicha P para aproximar el valor de pi\n",
    "5. Repetimos el experimento un nº suficiente de veces (ej: n_exp=100) para obtener diferentes aproximaciones de π\n",
    "6. Calcular el promedio de los 100 experimentos anteriores para dar con un valor diferente de π"
   ]
  },
  {
   "cell_type": "code",
   "execution_count": 37,
   "metadata": {},
   "outputs": [],
   "source": [
    "def pi_montecarlo(n, n_exp): \n",
    "\n",
    "    pi_avg = 0 #Pi empezará por valer 0\n",
    "    pi_value_list = [] #Lista a rellenar con los valores de π que vayamos obteniendo\n",
    "    \n",
    "    for i in range (n_exp): #n_exp = veces que repetimos el experimento\n",
    "        value = 0 #Casos favorables\n",
    "        #Generamos dos listas con n valores de Xs e Ys (n nºs aleatorios uniformes entre 0 y 1)\n",
    "        x = np.random.uniform(0,1,n).tolist() \n",
    "        y = np.random.uniform(0,1,n).tolist() \n",
    "        for j in range (n): #n = cada vez que hago el experimento, genero n puntos\n",
    "            z = np.sqrt(x[j]*x[j] + y[j]*y[j]) #Calculo el R\n",
    "            if z<=1:\n",
    "                value += 1\n",
    "        float_value = float(value)\n",
    "        pi_value = (float_value * 4)/n\n",
    "        pi_value_list.append(pi_value)\n",
    "        pi_avg += pi_value\n",
    "\n",
    "    pi = pi_avg / n_exp #n_exp = veces que repetimos el experimento\n",
    "    print(pi)\n",
    "\n",
    "    fig = plt.plot(pi_value_list)\n",
    "    return (pi, fig)"
   ]
  },
  {
   "cell_type": "code",
   "execution_count": 38,
   "metadata": {},
   "outputs": [
    {
     "name": "stdout",
     "output_type": "stream",
     "text": [
      "3.140360000000003\n"
     ]
    },
    {
     "data": {
      "text/plain": [
       "(3.140360000000003, [<matplotlib.lines.Line2D at 0x7fdea08fa2e0>])"
      ]
     },
     "execution_count": 38,
     "metadata": {},
     "output_type": "execute_result"
    },
    {
     "data": {
      "image/png": "[encoded data removed]",
      "text/plain": [
       "<Figure size 432x288 with 1 Axes>"
      ]
     },
     "metadata": {
      "needs_background": "light"
     },
     "output_type": "display_data"
    }
   ],
   "source": [
    "pi_montecarlo(10000,200) "
   ]
  },
  {
   "cell_type": "markdown",
   "metadata": {},
   "source": [
    "# 2. Generación de Dummy Data Sets\n",
    "\n",
    "Dummy dataset = lista/array de nºs aleatorios."
   ]
  },
  {
   "cell_type": "code",
   "execution_count": 45,
   "metadata": {},
   "outputs": [
    {
     "data": {
      "text/plain": [
       "['State',\n",
       " 'Account Length',\n",
       " 'Area Code',\n",
       " 'Phone',\n",
       " \"Int'l Plan\",\n",
       " 'VMail Plan',\n",
       " 'VMail Message',\n",
       " 'Day Mins',\n",
       " 'Day Calls',\n",
       " 'Day Charge',\n",
       " 'Eve Mins',\n",
       " 'Eve Calls',\n",
       " 'Eve Charge',\n",
       " 'Night Mins',\n",
       " 'Night Calls',\n",
       " 'Night Charge',\n",
       " 'Intl Mins',\n",
       " 'Intl Calls',\n",
       " 'Intl Charge',\n",
       " 'CustServ Calls',\n",
       " 'Churn?']"
      ]
     },
     "execution_count": 45,
     "metadata": {},
     "output_type": "execute_result"
    }
   ],
   "source": [
    "column_names = df1.columns.values.tolist()\n",
    "column_names"
   ]
  },
  {
   "cell_type": "code",
   "execution_count": 53,
   "metadata": {},
   "outputs": [
    {
     "data": {
      "text/html": [
       "<div>\n",
       "<style scoped>\n",
       "    .dataframe tbody tr th:only-of-type {\n",
       "        vertical-align: middle;\n",
       "    }\n",
       "\n",
       "    .dataframe tbody tr th {\n",
       "        vertical-align: top;\n",
       "    }\n",
       "\n",
       "    .dataframe thead th {\n",
       "        text-align: right;\n",
       "    }\n",
       "</style>\n",
       "<table border=\"1\" class=\"dataframe\">\n",
       "  <thead>\n",
       "    <tr style=\"text-align: right;\">\n",
       "      <th></th>\n",
       "      <th>Column Name</th>\n",
       "      <th>Columna_A</th>\n",
       "      <th>Columna_B</th>\n",
       "      <th>Columna_C</th>\n",
       "    </tr>\n",
       "  </thead>\n",
       "  <tbody>\n",
       "    <tr>\n",
       "      <th>42</th>\n",
       "      <td>State</td>\n",
       "      <td>2.585642</td>\n",
       "      <td>3.794971</td>\n",
       "      <td>27.913532</td>\n",
       "    </tr>\n",
       "    <tr>\n",
       "      <th>43</th>\n",
       "      <td>Account Length</td>\n",
       "      <td>0.833488</td>\n",
       "      <td>-0.935529</td>\n",
       "      <td>21.327527</td>\n",
       "    </tr>\n",
       "  </tbody>\n",
       "</table>\n",
       "</div>"
      ],
      "text/plain": [
       "       Column Name  Columna_A  Columna_B  Columna_C\n",
       "42           State   2.585642   3.794971  27.913532\n",
       "43  Account Length   0.833488  -0.935529  21.327527"
      ]
     },
     "execution_count": 53,
     "metadata": {},
     "output_type": "execute_result"
    }
   ],
   "source": [
    "a = len(column_names)\n",
    "n=a #nº de filas\n",
    "\n",
    "df6 = pd.DataFrame( #Diccionario -> DataFrame \n",
    "    { \n",
    "        #Diferentes métodos para rellenar columnas con nºs aleatorios\n",
    "        'Column Name': column_names,\n",
    "        'Columna_A': np.random.randn(a), #Se distribuyen según la normal (0, 1)\n",
    "        'Columna_B': 0.5 + 2.5*np.random.randn(a), #Según normal no tipificada (0.5, 2.5)\n",
    "        'Columna_C': np.random.uniform(5, 32, a) #Distrib. uniforme \n",
    "    }, index=range(42, 42 + a)   #Para modificar el nº de inicio (índice)\n",
    ")\n",
    "\n",
    "df6.head(2)"
   ]
  },
  {
   "cell_type": "code",
   "execution_count": 54,
   "metadata": {},
   "outputs": [
    {
     "data": {
      "text/html": [
       "<div>\n",
       "<style scoped>\n",
       "    .dataframe tbody tr th:only-of-type {\n",
       "        vertical-align: middle;\n",
       "    }\n",
       "\n",
       "    .dataframe tbody tr th {\n",
       "        vertical-align: top;\n",
       "    }\n",
       "\n",
       "    .dataframe thead th {\n",
       "        text-align: right;\n",
       "    }\n",
       "</style>\n",
       "<table border=\"1\" class=\"dataframe\">\n",
       "  <thead>\n",
       "    <tr style=\"text-align: right;\">\n",
       "      <th></th>\n",
       "      <th>Columna_A</th>\n",
       "      <th>Columna_B</th>\n",
       "      <th>Columna_C</th>\n",
       "    </tr>\n",
       "  </thead>\n",
       "  <tbody>\n",
       "    <tr>\n",
       "      <th>count</th>\n",
       "      <td>21.000000</td>\n",
       "      <td>21.000000</td>\n",
       "      <td>21.000000</td>\n",
       "    </tr>\n",
       "    <tr>\n",
       "      <th>mean</th>\n",
       "      <td>-0.184699</td>\n",
       "      <td>0.743268</td>\n",
       "      <td>17.986807</td>\n",
       "    </tr>\n",
       "    <tr>\n",
       "      <th>std</th>\n",
       "      <td>1.358822</td>\n",
       "      <td>2.199630</td>\n",
       "      <td>8.313110</td>\n",
       "    </tr>\n",
       "    <tr>\n",
       "      <th>min</th>\n",
       "      <td>-2.154453</td>\n",
       "      <td>-1.867075</td>\n",
       "      <td>6.372607</td>\n",
       "    </tr>\n",
       "    <tr>\n",
       "      <th>25%</th>\n",
       "      <td>-1.145530</td>\n",
       "      <td>-0.796187</td>\n",
       "      <td>11.806619</td>\n",
       "    </tr>\n",
       "    <tr>\n",
       "      <th>50%</th>\n",
       "      <td>-0.575272</td>\n",
       "      <td>0.348996</td>\n",
       "      <td>18.906785</td>\n",
       "    </tr>\n",
       "    <tr>\n",
       "      <th>75%</th>\n",
       "      <td>0.512661</td>\n",
       "      <td>1.971598</td>\n",
       "      <td>23.013744</td>\n",
       "    </tr>\n",
       "    <tr>\n",
       "      <th>max</th>\n",
       "      <td>2.585642</td>\n",
       "      <td>7.537519</td>\n",
       "      <td>31.755130</td>\n",
       "    </tr>\n",
       "  </tbody>\n",
       "</table>\n",
       "</div>"
      ],
      "text/plain": [
       "       Columna_A  Columna_B  Columna_C\n",
       "count  21.000000  21.000000  21.000000\n",
       "mean   -0.184699   0.743268  17.986807\n",
       "std     1.358822   2.199630   8.313110\n",
       "min    -2.154453  -1.867075   6.372607\n",
       "25%    -1.145530  -0.796187  11.806619\n",
       "50%    -0.575272   0.348996  18.906785\n",
       "75%     0.512661   1.971598  23.013744\n",
       "max     2.585642   7.537519  31.755130"
      ]
     },
     "execution_count": 54,
     "metadata": {},
     "output_type": "execute_result"
    }
   ],
   "source": [
    "df6.describe()"
   ]
  },
  {
   "cell_type": "code",
   "execution_count": null,
   "metadata": {},
   "outputs": [],
   "source": []
  }
 ],
 "metadata": {
  "kernelspec": {
   "display_name": "Python 3",
   "language": "python",
   "name": "python3"
  },
  "language_info": {
   "codemirror_mode": {
    "name": "ipython",
    "version": 3
   },
   "file_extension": ".py",
   "mimetype": "text/x-python",
   "name": "python",
   "nbconvert_exporter": "python",
   "pygments_lexer": "ipython3",
   "version": "3.8.5"
  }
 },
 "nbformat": 4,
 "nbformat_minor": 4
}
