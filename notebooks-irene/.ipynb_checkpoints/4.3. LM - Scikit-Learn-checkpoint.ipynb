{
 "cells": [
  {
   "cell_type": "markdown",
   "metadata": {},
   "source": [
    "# Regresión lineal - Scikit-learn\n",
    "\n",
    "**Explicación R. Lineal ->** https://www.notion.so/Regresi-n-lineal-39b5e113aa01468a8963932b5ec26123\n",
    "\n",
    "**Librerías, Funciones:**\n",
    "- *Pandas* -> read_csv.\n",
    "- *from sklearn.feature_selection import RFE* -> RFE\n",
    "- *from sklearn.svm import SVR* -> SVR\n",
    "- *from sklearn.linear_model import LinearRegression* -> LinearRegression(), support_, .ranking_, .intercept_, .coef_, .score()\n",
    "\n",
    "**Índice:**\n",
    "\n",
    "0. Preparación previa\n",
    "1. Selección de **rasgos**\n",
    "2. Construcción del **modelo**"
   ]
  },
  {
   "cell_type": "markdown",
   "metadata": {},
   "source": [
    "# 0. Preparación previa"
   ]
  },
  {
   "cell_type": "markdown",
   "metadata": {},
   "source": [
    "El paquete sklearn tiene implementada la selección de rasgos significativos (vars predictoras que deben formar parte del modelo) -> hace una selección de rasgos hacia atrás (\"eliminación de rasgos recursiva\")"
   ]
  },
  {
   "cell_type": "code",
   "execution_count": 3,
   "metadata": {},
   "outputs": [],
   "source": [
    "%config IPCompleter.greedy=True  #Para permitir el autocompletado en Jupyter\n",
    "\n",
    "import pandas as pd\n",
    "import numpy as np\n",
    "\n",
    "from sklearn.feature_selection import RFE #Recursive Feature Elimination\n",
    "from sklearn.svm import SVR #Para llevar a cabo el modelo lineal\n",
    "from sklearn.linear_model import LinearRegression #Para calcular el lm\n"
   ]
  },
  {
   "cell_type": "code",
   "execution_count": 4,
   "metadata": {},
   "outputs": [
    {
     "data": {
      "text/html": [
       "<div>\n",
       "<style scoped>\n",
       "    .dataframe tbody tr th:only-of-type {\n",
       "        vertical-align: middle;\n",
       "    }\n",
       "\n",
       "    .dataframe tbody tr th {\n",
       "        vertical-align: top;\n",
       "    }\n",
       "\n",
       "    .dataframe thead th {\n",
       "        text-align: right;\n",
       "    }\n",
       "</style>\n",
       "<table border=\"1\" class=\"dataframe\">\n",
       "  <thead>\n",
       "    <tr style=\"text-align: right;\">\n",
       "      <th></th>\n",
       "      <th>TV</th>\n",
       "      <th>Radio</th>\n",
       "      <th>Newspaper</th>\n",
       "      <th>Sales</th>\n",
       "    </tr>\n",
       "  </thead>\n",
       "  <tbody>\n",
       "    <tr>\n",
       "      <th>0</th>\n",
       "      <td>230.1</td>\n",
       "      <td>37.8</td>\n",
       "      <td>69.2</td>\n",
       "      <td>22.1</td>\n",
       "    </tr>\n",
       "    <tr>\n",
       "      <th>1</th>\n",
       "      <td>44.5</td>\n",
       "      <td>39.3</td>\n",
       "      <td>45.1</td>\n",
       "      <td>10.4</td>\n",
       "    </tr>\n",
       "  </tbody>\n",
       "</table>\n",
       "</div>"
      ],
      "text/plain": [
       "      TV  Radio  Newspaper  Sales\n",
       "0  230.1   37.8       69.2   22.1\n",
       "1   44.5   39.3       45.1   10.4"
      ]
     },
     "execution_count": 4,
     "metadata": {},
     "output_type": "execute_result"
    }
   ],
   "source": [
    "mainpath = \"/Users/irene/Documents/GitHub/python-ml-course/datasets\"  #Ruta ficheros\n",
    "filename = \"ads/Advertising.csv\" #Fichero a abrir\n",
    "fullpath = mainpath + \"/\" + filename #Ruta completa\n",
    "\n",
    "df = pd.read_csv(fullpath)\n",
    "df.head(2)"
   ]
  },
  {
   "cell_type": "markdown",
   "metadata": {},
   "source": [
    "# 2. Selección de rasgos\n",
    "\n",
    "Rasgos de predicción = vars. de entrada (X's)\n",
    "\n",
    "De todas las posibles vars. predictoras (feature_cols), nos vamos a quedar con las que + significatividad tienen para el modelo."
   ]
  },
  {
   "cell_type": "code",
   "execution_count": 5,
   "metadata": {},
   "outputs": [],
   "source": [
    "feature_cols = [\"TV\", \"Radio\", \"Newspaper\"] #Posibles var. predictivas\n",
    "\n",
    "X = df[feature_cols]\n",
    "Y = df[\"Sales\"]"
   ]
  },
  {
   "cell_type": "code",
   "execution_count": 10,
   "metadata": {},
   "outputs": [
    {
     "data": {
      "text/plain": [
       "array([ True,  True, False])"
      ]
     },
     "execution_count": 10,
     "metadata": {},
     "output_type": "execute_result"
    }
   ],
   "source": [
    "estimator = SVR(kernel=\"linear\") #Modelo lineal\n",
    "selector = RFE(estimator, n_features_to_select=2, step=1) #Quiero tener sólo 2 vars. predictivas, en 1 paso\n",
    "selector = selector.fit(X,Y)\n",
    "\n",
    "selector.support_ #Debemos descartar el último parámetro (Newspaper)"
   ]
  },
  {
   "cell_type": "code",
   "execution_count": 9,
   "metadata": {},
   "outputs": [
    {
     "data": {
      "text/plain": [
       "array([1, 1, 2])"
      ]
     },
     "execution_count": 9,
     "metadata": {},
     "output_type": "execute_result"
    }
   ],
   "source": [
    " selector.ranking_ #Indexa las vars. de mejor a peor significatividad"
   ]
  },
  {
   "cell_type": "markdown",
   "metadata": {},
   "source": [
    "# 3. Construcción del modelo\n",
    "\n",
    "**El modelo lineal obtenido por regresión es:**\n",
    "\n",
    "- Sales = 2.9210999124051362 + 0.04575482*TV + 0.18799423*Radio"
   ]
  },
  {
   "cell_type": "code",
   "execution_count": 14,
   "metadata": {},
   "outputs": [
    {
     "name": "stdout",
     "output_type": "stream",
     "text": [
      "El valor de alpha es: 2.9210999124051362\n",
      "El valor de las betas es: [0.04575482 0.18799423]\n",
      "El valor de R2 es: 0.8971942610828956\n"
     ]
    }
   ],
   "source": [
    "#Establecemos las vars. predictoras\n",
    "X_pred = X[[\"TV\", \"Radio\"]]\n",
    "\n",
    "#Creamos el modelo\n",
    "lm = LinearRegression()\n",
    "lm.fit(X_pred, Y)\n",
    "\n",
    "#Obtenemos los parámetros del modelo\n",
    "print(\"El valor de alpha es: \" + str(lm.intercept_))\n",
    "print(\"El valor de las betas es: \" + str(lm.coef_))\n",
    "print(\"El valor de R2 es: \" + str(lm.score(X_pred,Y)))"
   ]
  }
 ],
 "metadata": {
  "kernelspec": {
   "display_name": "Python 3",
   "language": "python",
   "name": "python3"
  },
  "language_info": {
   "codemirror_mode": {
    "name": "ipython",
    "version": 3
   },
   "file_extension": ".py",
   "mimetype": "text/x-python",
   "name": "python",
   "nbconvert_exporter": "python",
   "pygments_lexer": "ipython3",
   "version": "3.8.5"
  }
 },
 "nbformat": 4,
 "nbformat_minor": 4
}
