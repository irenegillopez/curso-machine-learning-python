{
 "cells": [
  {
   "cell_type": "markdown",
   "metadata": {},
   "source": [
    "# Árboles de regresión: caso práctico"
   ]
  },
  {
   "cell_type": "code",
   "execution_count": 2,
   "metadata": {},
   "outputs": [],
   "source": [
    "import pandas as pd\n",
    "import matplotlib.pyplot as plt\n",
    "import numpy as np"
   ]
  },
  {
   "cell_type": "code",
   "execution_count": 7,
   "metadata": {},
   "outputs": [
    {
     "name": "stdout",
     "output_type": "stream",
     "text": [
      "(506, 14)\n"
     ]
    },
    {
     "data": {
      "text/html": [
       "<div>\n",
       "<style scoped>\n",
       "    .dataframe tbody tr th:only-of-type {\n",
       "        vertical-align: middle;\n",
       "    }\n",
       "\n",
       "    .dataframe tbody tr th {\n",
       "        vertical-align: top;\n",
       "    }\n",
       "\n",
       "    .dataframe thead th {\n",
       "        text-align: right;\n",
       "    }\n",
       "</style>\n",
       "<table border=\"1\" class=\"dataframe\">\n",
       "  <thead>\n",
       "    <tr style=\"text-align: right;\">\n",
       "      <th></th>\n",
       "      <th>crim</th>\n",
       "      <th>zn</th>\n",
       "      <th>indus</th>\n",
       "      <th>chas</th>\n",
       "      <th>nox</th>\n",
       "      <th>rm</th>\n",
       "      <th>age</th>\n",
       "      <th>dis</th>\n",
       "      <th>rad</th>\n",
       "      <th>tax</th>\n",
       "      <th>ptratio</th>\n",
       "      <th>black</th>\n",
       "      <th>lstat</th>\n",
       "      <th>medv</th>\n",
       "    </tr>\n",
       "  </thead>\n",
       "  <tbody>\n",
       "    <tr>\n",
       "      <th>0</th>\n",
       "      <td>0.00632</td>\n",
       "      <td>18.0</td>\n",
       "      <td>2.31</td>\n",
       "      <td>0</td>\n",
       "      <td>0.538</td>\n",
       "      <td>6.575</td>\n",
       "      <td>65.2</td>\n",
       "      <td>4.0900</td>\n",
       "      <td>1</td>\n",
       "      <td>296</td>\n",
       "      <td>15.3</td>\n",
       "      <td>396.90</td>\n",
       "      <td>4.98</td>\n",
       "      <td>24.0</td>\n",
       "    </tr>\n",
       "    <tr>\n",
       "      <th>1</th>\n",
       "      <td>0.02731</td>\n",
       "      <td>0.0</td>\n",
       "      <td>7.07</td>\n",
       "      <td>0</td>\n",
       "      <td>0.469</td>\n",
       "      <td>6.421</td>\n",
       "      <td>78.9</td>\n",
       "      <td>4.9671</td>\n",
       "      <td>2</td>\n",
       "      <td>242</td>\n",
       "      <td>17.8</td>\n",
       "      <td>396.90</td>\n",
       "      <td>9.14</td>\n",
       "      <td>21.6</td>\n",
       "    </tr>\n",
       "    <tr>\n",
       "      <th>2</th>\n",
       "      <td>0.02729</td>\n",
       "      <td>0.0</td>\n",
       "      <td>7.07</td>\n",
       "      <td>0</td>\n",
       "      <td>0.469</td>\n",
       "      <td>7.185</td>\n",
       "      <td>61.1</td>\n",
       "      <td>4.9671</td>\n",
       "      <td>2</td>\n",
       "      <td>242</td>\n",
       "      <td>17.8</td>\n",
       "      <td>392.83</td>\n",
       "      <td>4.03</td>\n",
       "      <td>34.7</td>\n",
       "    </tr>\n",
       "  </tbody>\n",
       "</table>\n",
       "</div>"
      ],
      "text/plain": [
       "      crim    zn  indus  chas    nox     rm   age     dis  rad  tax  ptratio  \\\n",
       "0  0.00632  18.0   2.31     0  0.538  6.575  65.2  4.0900    1  296     15.3   \n",
       "1  0.02731   0.0   7.07     0  0.469  6.421  78.9  4.9671    2  242     17.8   \n",
       "2  0.02729   0.0   7.07     0  0.469  7.185  61.1  4.9671    2  242     17.8   \n",
       "\n",
       "    black  lstat  medv  \n",
       "0  396.90   4.98  24.0  \n",
       "1  396.90   9.14  21.6  \n",
       "2  392.83   4.03  34.7  "
      ]
     },
     "execution_count": 7,
     "metadata": {},
     "output_type": "execute_result"
    }
   ],
   "source": [
    "mainpath = \"/Users/irene/Documents/GitHub/python-ml-course/datasets\"  #Ruta ficheros\n",
    "filename = \"boston/Boston.csv\" #Fichero a abrir\n",
    "fullpath = mainpath + \"/\" + filename #Ruta completa\n",
    "\n",
    "df = pd.read_csv(fullpath)\n",
    "print(df.shape) \n",
    "df.head(3)"
   ]
  },
  {
   "cell_type": "markdown",
   "metadata": {},
   "source": [
    "Dataset de casas en Boston\n",
    "- 506 casas\n",
    "- crim = índice de crimen per cápita (barrio)\n",
    "- zn (proporción de residentes / pies^2)\n",
    "- indus = proporción de industria\n",
    "- chas = si la casa está cerca del río\n",
    "- nox = contaminación\n",
    "- rm = promedio de hab/casa\n",
    "- medv = precio medio -> **var. a predecir = y**\n",
    "- ..."
   ]
  },
  {
   "cell_type": "code",
   "execution_count": 8,
   "metadata": {},
   "outputs": [],
   "source": [
    "#Separamos las columnas en parámetros y objetivo \n",
    "\n",
    "colnames = df.columns.values.tolist()\n",
    "predictors = colnames[:13]\n",
    "target = colnames[13]"
   ]
  },
  {
   "cell_type": "code",
   "execution_count": 13,
   "metadata": {},
   "outputs": [],
   "source": [
    "#Creamos las variables del modelo\n",
    "\n",
    "X = df[predictors]\n",
    "Y = df[target]"
   ]
  },
  {
   "cell_type": "code",
   "execution_count": 15,
   "metadata": {},
   "outputs": [],
   "source": [
    "from sklearn.tree import DecisionTreeRegressor"
   ]
  },
  {
   "cell_type": "code",
   "execution_count": 17,
   "metadata": {},
   "outputs": [
    {
     "data": {
      "text/plain": [
       "DecisionTreeRegressor(min_samples_leaf=10, min_samples_split=30, random_state=0)"
      ]
     },
     "execution_count": 17,
     "metadata": {},
     "output_type": "execute_result"
    }
   ],
   "source": [
    "# Creamos el modelo\n",
    "\n",
    "regtree = DecisionTreeRegressor(min_samples_split = 30, min_samples_leaf = 10, random_state = 0)\n",
    "regtree.fit(X, Y)"
   ]
  },
  {
   "cell_type": "code",
   "execution_count": 19,
   "metadata": {},
   "outputs": [],
   "source": [
    "pred = regtree.predict(df[predictors])\n",
    "df[\"Predictions\"] = pred"
   ]
  },
  {
   "cell_type": "code",
   "execution_count": 22,
   "metadata": {},
   "outputs": [
    {
     "data": {
      "text/html": [
       "<div>\n",
       "<style scoped>\n",
       "    .dataframe tbody tr th:only-of-type {\n",
       "        vertical-align: middle;\n",
       "    }\n",
       "\n",
       "    .dataframe tbody tr th {\n",
       "        vertical-align: top;\n",
       "    }\n",
       "\n",
       "    .dataframe thead th {\n",
       "        text-align: right;\n",
       "    }\n",
       "</style>\n",
       "<table border=\"1\" class=\"dataframe\">\n",
       "  <thead>\n",
       "    <tr style=\"text-align: right;\">\n",
       "      <th></th>\n",
       "      <th>Predictions</th>\n",
       "      <th>medv</th>\n",
       "    </tr>\n",
       "  </thead>\n",
       "  <tbody>\n",
       "    <tr>\n",
       "      <th>0</th>\n",
       "      <td>22.840000</td>\n",
       "      <td>24.0</td>\n",
       "    </tr>\n",
       "    <tr>\n",
       "      <th>1</th>\n",
       "      <td>22.840000</td>\n",
       "      <td>21.6</td>\n",
       "    </tr>\n",
       "    <tr>\n",
       "      <th>2</th>\n",
       "      <td>35.247826</td>\n",
       "      <td>34.7</td>\n",
       "    </tr>\n",
       "    <tr>\n",
       "      <th>3</th>\n",
       "      <td>35.247826</td>\n",
       "      <td>33.4</td>\n",
       "    </tr>\n",
       "    <tr>\n",
       "      <th>4</th>\n",
       "      <td>35.247826</td>\n",
       "      <td>36.2</td>\n",
       "    </tr>\n",
       "    <tr>\n",
       "      <th>...</th>\n",
       "      <td>...</td>\n",
       "      <td>...</td>\n",
       "    </tr>\n",
       "    <tr>\n",
       "      <th>501</th>\n",
       "      <td>22.840000</td>\n",
       "      <td>22.4</td>\n",
       "    </tr>\n",
       "    <tr>\n",
       "      <th>502</th>\n",
       "      <td>20.624138</td>\n",
       "      <td>20.6</td>\n",
       "    </tr>\n",
       "    <tr>\n",
       "      <th>503</th>\n",
       "      <td>28.978261</td>\n",
       "      <td>23.9</td>\n",
       "    </tr>\n",
       "    <tr>\n",
       "      <th>504</th>\n",
       "      <td>31.170000</td>\n",
       "      <td>22.0</td>\n",
       "    </tr>\n",
       "    <tr>\n",
       "      <th>505</th>\n",
       "      <td>20.624138</td>\n",
       "      <td>11.9</td>\n",
       "    </tr>\n",
       "  </tbody>\n",
       "</table>\n",
       "<p>506 rows × 2 columns</p>\n",
       "</div>"
      ],
      "text/plain": [
       "     Predictions  medv\n",
       "0      22.840000  24.0\n",
       "1      22.840000  21.6\n",
       "2      35.247826  34.7\n",
       "3      35.247826  33.4\n",
       "4      35.247826  36.2\n",
       "..           ...   ...\n",
       "501    22.840000  22.4\n",
       "502    20.624138  20.6\n",
       "503    28.978261  23.9\n",
       "504    31.170000  22.0\n",
       "505    20.624138  11.9\n",
       "\n",
       "[506 rows x 2 columns]"
      ]
     },
     "execution_count": 22,
     "metadata": {},
     "output_type": "execute_result"
    }
   ],
   "source": [
    "#Comparamos el valor actual con el predicho\n",
    "\n",
    "df[[\"Predictions\", \"medv\"]]"
   ]
  },
  {
   "cell_type": "markdown",
   "metadata": {},
   "source": [
    "Hay algunas observaciones que tienen el mismo valor predicho ya que todas esas están dentro de una misma rama"
   ]
  },
  {
   "cell_type": "code",
   "execution_count": 23,
   "metadata": {},
   "outputs": [],
   "source": [
    "# Visualización gráfica del árbol\n",
    "\n",
    "from sklearn.tree import export_graphviz\n",
    "import os\n",
    "from graphviz import Source \n",
    "os.environ[\"PATH\"] += os.pathsep + 'C:/Users/irene/.anaconda/navigator/Library/bin/graphviz'"
   ]
  },
  {
   "cell_type": "code",
   "execution_count": 28,
   "metadata": {},
   "outputs": [],
   "source": [
    "#para visualizar grafos\n",
    "\n",
    "#Necesitamos crear un archivo .dot\n",
    "\n",
    "with open(\"/Users/irene/Documents/GitHub/curso-machine-learning-python/resources/regtree_boston.dot\", \"w\") as dotfile:\n",
    "    export_graphviz(regtree, out_file = dotfile, feature_names = predictors)\n",
    "    dotfile.close()"
   ]
  },
  {
   "cell_type": "code",
   "execution_count": 29,
   "metadata": {},
   "outputs": [
    {
     "data": {
      "text/plain": [
       "'digraph Tree {\\nnode [shape=box] ;\\n0 [label=\"rm <= 6.941\\\\nmse = 84.42\\\\nsamples = 506\\\\nvalue = 22.533\"] ;\\n1 [label=\"lstat <= 14.4\\\\nmse = 40.273\\\\nsamples = 430\\\\nvalue = 19.934\"] ;\\n0 -> 1 [labeldistance=2.5, labelangle=45, headlabel=\"True\"] ;\\n2 [label=\"lstat <= 4.91\\\\nmse = 26.009\\\\nsamples = 255\\\\nvalue = 23.35\"] ;\\n1 -> 2 ;\\n3 [label=\"mse = 47.187\\\\nsamples = 20\\\\nvalue = 31.565\"] ;\\n2 -> 3 ;\\n4 [label=\"lstat <= 9.715\\\\nmse = 17.974\\\\nsamples = 235\\\\nvalue = 22.651\"] ;\\n2 -> 4 ;\\n5 [label=\"age <= 87.6\\\\nmse = 22.287\\\\nsamples = 122\\\\nvalue = 24.393\"] ;\\n4 -> 5 ;\\n6 [label=\"rm <= 6.125\\\\nmse = 11.111\\\\nsamples = 112\\\\nvalue = 23.787\"] ;\\n5 -> 6 ;\\n7 [label=\"mse = 4.865\\\\nsamples = 29\\\\nvalue = 20.624\"] ;\\n6 -> 7 ;\\n8 [label=\"rm <= 6.611\\\\nmse = 8.576\\\\nsamples = 83\\\\nvalue = 24.893\"] ;\\n6 -> 8 ;\\n9 [label=\"tax <= 332.5\\\\nmse = 6.848\\\\nsamples = 60\\\\nvalue = 23.99\"] ;\\n8 -> 9 ;\\n10 [label=\"age <= 63.7\\\\nmse = 6.345\\\\nsamples = 50\\\\nvalue = 24.366\"] ;\\n9 -> 10 ;\\n11 [label=\"dis <= 4.631\\\\nmse = 6.944\\\\nsamples = 40\\\\nvalue = 24.747\"] ;\\n10 -> 11 ;\\n12 [label=\"mse = 14.017\\\\nsamples = 11\\\\nvalue = 26.564\"] ;\\n11 -> 12 ;\\n13 [label=\"mse = 2.536\\\\nsamples = 29\\\\nvalue = 24.059\"] ;\\n11 -> 13 ;\\n14 [label=\"mse = 1.038\\\\nsamples = 10\\\\nvalue = 22.84\"] ;\\n10 -> 14 ;\\n15 [label=\"mse = 5.119\\\\nsamples = 10\\\\nvalue = 22.11\"] ;\\n9 -> 15 ;\\n16 [label=\"mse = 5.413\\\\nsamples = 23\\\\nvalue = 27.248\"] ;\\n8 -> 16 ;\\n17 [label=\"mse = 97.42\\\\nsamples = 10\\\\nvalue = 31.17\"] ;\\n5 -> 17 ;\\n18 [label=\"ptratio <= 17.85\\\\nmse = 6.503\\\\nsamples = 113\\\\nvalue = 20.77\"] ;\\n4 -> 18 ;\\n19 [label=\"tax <= 309.0\\\\nmse = 8.556\\\\nsamples = 33\\\\nvalue = 21.864\"] ;\\n18 -> 19 ;\\n20 [label=\"mse = 9.029\\\\nsamples = 15\\\\nvalue = 23.127\"] ;\\n19 -> 20 ;\\n21 [label=\"mse = 5.725\\\\nsamples = 18\\\\nvalue = 20.811\"] ;\\n19 -> 21 ;\\n22 [label=\"indus <= 10.245\\\\nmse = 4.96\\\\nsamples = 80\\\\nvalue = 20.319\"] ;\\n18 -> 22 ;\\n23 [label=\"age <= 70.1\\\\nmse = 4.35\\\\nsamples = 44\\\\nvalue = 19.661\"] ;\\n22 -> 23 ;\\n24 [label=\"mse = 4.541\\\\nsamples = 26\\\\nvalue = 20.292\"] ;\\n23 -> 24 ;\\n25 [label=\"mse = 2.668\\\\nsamples = 18\\\\nvalue = 18.75\"] ;\\n23 -> 25 ;\\n26 [label=\"nox <= 0.627\\\\nmse = 4.531\\\\nsamples = 36\\\\nvalue = 21.122\"] ;\\n22 -> 26 ;\\n27 [label=\"mse = 4.093\\\\nsamples = 24\\\\nvalue = 20.783\"] ;\\n26 -> 27 ;\\n28 [label=\"mse = 4.717\\\\nsamples = 12\\\\nvalue = 21.8\"] ;\\n26 -> 28 ;\\n29 [label=\"crim <= 6.992\\\\nmse = 19.276\\\\nsamples = 175\\\\nvalue = 14.956\"] ;\\n1 -> 29 ;\\n30 [label=\"nox <= 0.531\\\\nmse = 11.391\\\\nsamples = 101\\\\nvalue = 17.138\"] ;\\n29 -> 30 ;\\n31 [label=\"mse = 9.016\\\\nsamples = 24\\\\nvalue = 20.021\"] ;\\n30 -> 31 ;\\n32 [label=\"lstat <= 18.885\\\\nmse = 8.733\\\\nsamples = 77\\\\nvalue = 16.239\"] ;\\n30 -> 32 ;\\n33 [label=\"age <= 85.2\\\\nmse = 5.952\\\\nsamples = 53\\\\nvalue = 17.234\"] ;\\n32 -> 33 ;\\n34 [label=\"mse = 4.531\\\\nsamples = 12\\\\nvalue = 19.408\"] ;\\n33 -> 34 ;\\n35 [label=\"crim <= 0.615\\\\nmse = 4.579\\\\nsamples = 41\\\\nvalue = 16.598\"] ;\\n33 -> 35 ;\\n36 [label=\"mse = 3.971\\\\nsamples = 16\\\\nvalue = 18.112\"] ;\\n35 -> 36 ;\\n37 [label=\"mse = 2.559\\\\nsamples = 25\\\\nvalue = 15.628\"] ;\\n35 -> 37 ;\\n38 [label=\"mse = 7.862\\\\nsamples = 24\\\\nvalue = 14.042\"] ;\\n32 -> 38 ;\\n39 [label=\"nox <= 0.606\\\\nmse = 14.674\\\\nsamples = 74\\\\nvalue = 11.978\"] ;\\n29 -> 39 ;\\n40 [label=\"mse = 18.606\\\\nsamples = 12\\\\nvalue = 16.633\"] ;\\n39 -> 40 ;\\n41 [label=\"lstat <= 19.645\\\\nmse = 8.908\\\\nsamples = 62\\\\nvalue = 11.077\"] ;\\n39 -> 41 ;\\n42 [label=\"mse = 4.18\\\\nsamples = 18\\\\nvalue = 13.922\"] ;\\n41 -> 42 ;\\n43 [label=\"nox <= 0.675\\\\nmse = 6.177\\\\nsamples = 44\\\\nvalue = 9.914\"] ;\\n41 -> 43 ;\\n44 [label=\"mse = 1.544\\\\nsamples = 10\\\\nvalue = 12.63\"] ;\\n43 -> 44 ;\\n45 [label=\"crim <= 13.24\\\\nmse = 4.731\\\\nsamples = 34\\\\nvalue = 9.115\"] ;\\n43 -> 45 ;\\n46 [label=\"mse = 3.989\\\\nsamples = 15\\\\nvalue = 10.46\"] ;\\n45 -> 46 ;\\n47 [label=\"mse = 2.76\\\\nsamples = 19\\\\nvalue = 8.053\"] ;\\n45 -> 47 ;\\n48 [label=\"rm <= 7.437\\\\nmse = 79.729\\\\nsamples = 76\\\\nvalue = 37.238\"] ;\\n0 -> 48 [labeldistance=2.5, labelangle=-45, headlabel=\"False\"] ;\\n49 [label=\"lstat <= 5.495\\\\nmse = 41.296\\\\nsamples = 46\\\\nvalue = 32.113\"] ;\\n48 -> 49 ;\\n50 [label=\"mse = 17.249\\\\nsamples = 23\\\\nvalue = 35.248\"] ;\\n49 -> 50 ;\\n51 [label=\"mse = 45.69\\\\nsamples = 23\\\\nvalue = 28.978\"] ;\\n49 -> 51 ;\\n52 [label=\"ptratio <= 15.4\\\\nmse = 36.628\\\\nsamples = 30\\\\nvalue = 45.097\"] ;\\n48 -> 52 ;\\n53 [label=\"mse = 7.774\\\\nsamples = 16\\\\nvalue = 47.975\"] ;\\n52 -> 53 ;\\n54 [label=\"mse = 49.315\\\\nsamples = 14\\\\nvalue = 41.807\"] ;\\n52 -> 54 ;\\n}'"
      ]
     },
     "execution_count": 29,
     "metadata": {},
     "output_type": "execute_result"
    }
   ],
   "source": [
    "file = open(\"/Users/irene/Documents/GitHub/curso-machine-learning-python/resources/regtree_boston.dot\", \"r\")\n",
    "text = file.read()\n",
    "text"
   ]
  },
  {
   "cell_type": "code",
   "execution_count": null,
   "metadata": {},
   "outputs": [],
   "source": [
    "#NO VA \n",
    "\n",
    "Source(text) #Profundidad = 3 decisiones"
   ]
  },
  {
   "cell_type": "markdown",
   "metadata": {},
   "source": [
    "# 3. Validar y podar el árbol\n",
    "\n",
    "Usamos el método del Cross Validation para la poda"
   ]
  },
  {
   "cell_type": "code",
   "execution_count": 52,
   "metadata": {},
   "outputs": [],
   "source": [
    "from sklearn.model_selection import KFold #Para hacer un crossvalidation (cv)\n",
    "from sklearn.model_selection import cross_val_score #Para conocer la media de las eficacias del cv\n",
    "from sklearn.metrics import SCORERS"
   ]
  },
  {
   "cell_type": "code",
   "execution_count": 53,
   "metadata": {},
   "outputs": [],
   "source": [
    " cv = KFold(n_splits = 10, shuffle = True, random_state = 1)"
   ]
  },
  {
   "cell_type": "code",
   "execution_count": 58,
   "metadata": {},
   "outputs": [
    {
     "name": "stdout",
     "output_type": "stream",
     "text": [
      "[-13.64925886 -17.28987161 -16.98569707 -47.56954086  -9.26202865\n",
      " -17.23057023 -15.41541493 -31.33011027 -22.79877067  -9.54180723]\n",
      "\n",
      "El score es de -20.107307036443846\n"
     ]
    }
   ],
   "source": [
    "scores = cross_val_score(regtree, X, Y, scoring = \"neg_mean_squared_error\", cv = cv, n_jobs=1)\n",
    "print(scores)\n",
    "score = np.mean(scores)\n",
    "print(\"\")\n",
    "print(\"El score es de \" + str(score)) #eficacia muy alta\n",
    "\n",
    "#El error promedio es de 20 puntos arriba/abajo en la predicción"
   ]
  },
  {
   "cell_type": "code",
   "execution_count": 61,
   "metadata": {},
   "outputs": [
    {
     "data": {
      "text/plain": [
       "[('crim', 0.03421203230639308),\n",
       " ('zn', 0.0),\n",
       " ('indus', 0.0011605887788380146),\n",
       " ('chas', 0.0),\n",
       " ('nox', 0.01856163073811432),\n",
       " ('rm', 0.6308568014337028),\n",
       " ('age', 0.01725115143448847),\n",
       " ('dis', 0.0013745115995791378),\n",
       " ('rad', 0.0),\n",
       " ('tax', 0.0023698305298803803),\n",
       " ('ptratio', 0.009333247332530954),\n",
       " ('black', 0.0),\n",
       " ('lstat', 0.28488020584647283)]"
      ]
     },
     "execution_count": 61,
     "metadata": {},
     "output_type": "execute_result"
    }
   ],
   "source": [
    "#Para saber las vars. más importantes:\n",
    "\n",
    "list(zip(predictors,regtree.feature_importances_))"
   ]
  },
  {
   "cell_type": "markdown",
   "metadata": {},
   "source": [
    "# Random Forests para Regresión"
   ]
  },
  {
   "cell_type": "code",
   "execution_count": 80,
   "metadata": {},
   "outputs": [],
   "source": [
    "from sklearn.ensemble import RandomForestRegressor"
   ]
  },
  {
   "cell_type": "code",
   "execution_count": 87,
   "metadata": {},
   "outputs": [
    {
     "data": {
      "text/plain": [
       "RandomForestRegressor(n_estimators=500, n_jobs=2, oob_score=True)"
      ]
     },
     "execution_count": 87,
     "metadata": {},
     "output_type": "execute_result"
    }
   ],
   "source": [
    "forest = RandomForestRegressor(n_jobs = 2, oob_score=True, n_estimators=500)\n",
    "forest.fit(X, Y)\n",
    "\n",
    "#n_jobs = nº trabajos simultáneos -> nº tareas en paralelo\n",
    "#oob = muestreo aleatorio\n",
    "#n_estimators = nº de árboles que tendrá nuestro bosque"
   ]
  },
  {
   "cell_type": "code",
   "execution_count": 88,
   "metadata": {},
   "outputs": [
    {
     "data": {
      "text/html": [
       "<div>\n",
       "<style scoped>\n",
       "    .dataframe tbody tr th:only-of-type {\n",
       "        vertical-align: middle;\n",
       "    }\n",
       "\n",
       "    .dataframe tbody tr th {\n",
       "        vertical-align: top;\n",
       "    }\n",
       "\n",
       "    .dataframe thead th {\n",
       "        text-align: right;\n",
       "    }\n",
       "</style>\n",
       "<table border=\"1\" class=\"dataframe\">\n",
       "  <thead>\n",
       "    <tr style=\"text-align: right;\">\n",
       "      <th></th>\n",
       "      <th>Predicción Bosque</th>\n",
       "      <th>medv</th>\n",
       "    </tr>\n",
       "  </thead>\n",
       "  <tbody>\n",
       "    <tr>\n",
       "      <th>0</th>\n",
       "      <td>28.709091</td>\n",
       "      <td>24.0</td>\n",
       "    </tr>\n",
       "    <tr>\n",
       "      <th>1</th>\n",
       "      <td>22.829670</td>\n",
       "      <td>21.6</td>\n",
       "    </tr>\n",
       "    <tr>\n",
       "      <th>2</th>\n",
       "      <td>34.812432</td>\n",
       "      <td>34.7</td>\n",
       "    </tr>\n",
       "    <tr>\n",
       "      <th>3</th>\n",
       "      <td>34.075843</td>\n",
       "      <td>33.4</td>\n",
       "    </tr>\n",
       "    <tr>\n",
       "      <th>4</th>\n",
       "      <td>34.377949</td>\n",
       "      <td>36.2</td>\n",
       "    </tr>\n",
       "    <tr>\n",
       "      <th>...</th>\n",
       "      <td>...</td>\n",
       "      <td>...</td>\n",
       "    </tr>\n",
       "    <tr>\n",
       "      <th>501</th>\n",
       "      <td>24.681176</td>\n",
       "      <td>22.4</td>\n",
       "    </tr>\n",
       "    <tr>\n",
       "      <th>502</th>\n",
       "      <td>18.294000</td>\n",
       "      <td>20.6</td>\n",
       "    </tr>\n",
       "    <tr>\n",
       "      <th>503</th>\n",
       "      <td>27.659195</td>\n",
       "      <td>23.9</td>\n",
       "    </tr>\n",
       "    <tr>\n",
       "      <th>504</th>\n",
       "      <td>25.983696</td>\n",
       "      <td>22.0</td>\n",
       "    </tr>\n",
       "    <tr>\n",
       "      <th>505</th>\n",
       "      <td>20.839779</td>\n",
       "      <td>11.9</td>\n",
       "    </tr>\n",
       "  </tbody>\n",
       "</table>\n",
       "<p>506 rows × 2 columns</p>\n",
       "</div>"
      ],
      "text/plain": [
       "     Predicción Bosque  medv\n",
       "0            28.709091  24.0\n",
       "1            22.829670  21.6\n",
       "2            34.812432  34.7\n",
       "3            34.075843  33.4\n",
       "4            34.377949  36.2\n",
       "..                 ...   ...\n",
       "501          24.681176  22.4\n",
       "502          18.294000  20.6\n",
       "503          27.659195  23.9\n",
       "504          25.983696  22.0\n",
       "505          20.839779  11.9\n",
       "\n",
       "[506 rows x 2 columns]"
      ]
     },
     "execution_count": 88,
     "metadata": {},
     "output_type": "execute_result"
    }
   ],
   "source": [
    "df[\"Predicción Bosque\"] = forest.oob_prediction_\n",
    "\n",
    "#Para visualizar la predicción y el valor actual conjuntamente\n",
    "df[[\"Predicción Bosque\",\"medv\"]]"
   ]
  },
  {
   "cell_type": "markdown",
   "metadata": {},
   "source": [
    "Para calcular el error cuadrático medio, no necesitamos la validación cruzada, podemos comparar la predicción con el valor actual"
   ]
  },
  {
   "cell_type": "code",
   "execution_count": 90,
   "metadata": {},
   "outputs": [
    {
     "name": "stdout",
     "output_type": "stream",
     "text": [
      "El error será del 10.391002965784644%\n"
     ]
    }
   ],
   "source": [
    "df[\"Error Bosque 2\"] = (df[\"Predicción Bosque\"]-df[\"medv\"])**2\n",
    "print(\"El error será del \" + str(sum(df[\"Error Bosque 2\"])/len(df)) + \"%\")\n",
    "\n",
    "#El error ha bajado de 20,10% a 10,39%"
   ]
  },
  {
   "cell_type": "code",
   "execution_count": 91,
   "metadata": {},
   "outputs": [
    {
     "data": {
      "text/plain": [
       "0.8769123715059268"
      ]
     },
     "execution_count": 91,
     "metadata": {},
     "output_type": "execute_result"
    }
   ],
   "source": [
    "forest.oob_score_ #similar al R2, más eficaz"
   ]
  }
 ],
 "metadata": {
  "kernelspec": {
   "display_name": "Python 3",
   "language": "python",
   "name": "python3"
  },
  "language_info": {
   "codemirror_mode": {
    "name": "ipython",
    "version": 3
   },
   "file_extension": ".py",
   "mimetype": "text/x-python",
   "name": "python",
   "nbconvert_exporter": "python",
   "pygments_lexer": "ipython3",
   "version": "3.8.5"
  }
 },
 "nbformat": 4,
 "nbformat_minor": 4
}
