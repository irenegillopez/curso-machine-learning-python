{
 "cells": [
  {
   "cell_type": "markdown",
   "metadata": {},
   "source": [
    "# Regresión lineal - manual:\n",
    "\n",
    "**Explicación R. Lineal ->** https://www.notion.so/Regresi-n-lineal-39b5e113aa01468a8963932b5ec26123\n",
    "\n",
    "**Librerías, Funciones:**\n",
    "- *Pandas* -> DataFrame\n",
    "- *Python* -> tolist(), type(), len(), sum()\n",
    "- *Numpy* -> random.randn, mean, sqrt\n",
    "- *Matplotlib.pyplot* -> .plot, .title\n",
    "\n",
    "\n",
    "**Índice:**\n",
    "\n",
    "0. Preparación previa\n",
    "1. Representación **gráfica**\n",
    "2. Elaboración del **modelo**\n",
    "3. Cálculo de **errores:**\n",
    "- SSD, SSR, SST\n",
    "- R2\n",
    "- RSE"
   ]
  },
  {
   "cell_type": "markdown",
   "metadata": {},
   "source": [
    "# 0. Preparación previa"
   ]
  },
  {
   "cell_type": "code",
   "execution_count": 82,
   "metadata": {},
   "outputs": [],
   "source": [
    "import pandas as pd\n",
    "import numpy as np\n",
    "import matplotlib.pyplot as plt"
   ]
  },
  {
   "cell_type": "markdown",
   "metadata": {},
   "source": [
    "Creamos una tabla aleatoria para usar de ejemplo:\n",
    "- **LM:**   y = a + b * x\n",
    "- **Distrib. de X:**   100 valores distribuídos según una N(1.5,2.5)\n",
    "- **LM:**   Y_predicción = 5 + 1.9 * x + e\n",
    "- **Distrib. del error:**   distribuído según una N(0, 0.8)"
   ]
  },
  {
   "cell_type": "code",
   "execution_count": 83,
   "metadata": {},
   "outputs": [
    {
     "data": {
      "text/plain": [
       "(numpy.ndarray, numpy.ndarray, numpy.ndarray)"
      ]
     },
     "execution_count": 83,
     "metadata": {},
     "output_type": "execute_result"
    }
   ],
   "source": [
    "x = 1.5 + 2.5 * np.random.randn(100)\n",
    "y_pre = 5 + 1.9 * x\n",
    "\n",
    "e = 0 + 0.8 + np.random.randn(100)\n",
    "y_act = 5 + 1.9 * x + e\n",
    "\n",
    "type(x),type(y_pre),type(y_act)"
   ]
  },
  {
   "cell_type": "code",
   "execution_count": 84,
   "metadata": {},
   "outputs": [
    {
     "data": {
      "text/plain": [
       "(list, list, list)"
      ]
     },
     "execution_count": 84,
     "metadata": {},
     "output_type": "execute_result"
    }
   ],
   "source": [
    "#Pasamos de Array a formato lista:\n",
    "\n",
    "x_list = x.tolist()\n",
    "y_act_list = y_act.tolist()\n",
    "y_pre_list = y_pre.tolist()\n",
    "\n",
    "type(x_list),type(y_pre_list),type(y_act_list)"
   ]
  },
  {
   "cell_type": "code",
   "execution_count": 85,
   "metadata": {},
   "outputs": [
    {
     "data": {
      "text/html": [
       "<div>\n",
       "<style scoped>\n",
       "    .dataframe tbody tr th:only-of-type {\n",
       "        vertical-align: middle;\n",
       "    }\n",
       "\n",
       "    .dataframe tbody tr th {\n",
       "        vertical-align: top;\n",
       "    }\n",
       "\n",
       "    .dataframe thead th {\n",
       "        text-align: right;\n",
       "    }\n",
       "</style>\n",
       "<table border=\"1\" class=\"dataframe\">\n",
       "  <thead>\n",
       "    <tr style=\"text-align: right;\">\n",
       "      <th></th>\n",
       "      <th>X</th>\n",
       "      <th>Y Actual</th>\n",
       "      <th>Y Predicción</th>\n",
       "    </tr>\n",
       "  </thead>\n",
       "  <tbody>\n",
       "    <tr>\n",
       "      <th>0</th>\n",
       "      <td>0.708496</td>\n",
       "      <td>5.821262</td>\n",
       "      <td>6.346143</td>\n",
       "    </tr>\n",
       "    <tr>\n",
       "      <th>1</th>\n",
       "      <td>0.457188</td>\n",
       "      <td>7.290266</td>\n",
       "      <td>5.868657</td>\n",
       "    </tr>\n",
       "    <tr>\n",
       "      <th>2</th>\n",
       "      <td>2.439371</td>\n",
       "      <td>8.390081</td>\n",
       "      <td>9.634804</td>\n",
       "    </tr>\n",
       "  </tbody>\n",
       "</table>\n",
       "</div>"
      ],
      "text/plain": [
       "          X  Y Actual  Y Predicción\n",
       "0  0.708496  5.821262      6.346143\n",
       "1  0.457188  7.290266      5.868657\n",
       "2  2.439371  8.390081      9.634804"
      ]
     },
     "execution_count": 85,
     "metadata": {},
     "output_type": "execute_result"
    }
   ],
   "source": [
    "#Construimos un DataFrame con las listas creadas:\n",
    "\n",
    "df = pd.DataFrame(\n",
    "    {\n",
    "        \"X\": x_list,\n",
    "        \"Y Actual\": y_act_list,\n",
    "        \"Y Predicción\": y_pre_list\n",
    "    }\n",
    ")\n",
    "\n",
    "df.head(3)"
   ]
  },
  {
   "cell_type": "markdown",
   "metadata": {},
   "source": [
    "# 1. Representación gráfica\n",
    "\n",
    "Podemos observar cómo los valores Actuales son similares a los Predichos:"
   ]
  },
  {
   "cell_type": "code",
   "execution_count": 86,
   "metadata": {},
   "outputs": [],
   "source": [
    "#Creamos una columna con el valor de Y promedio, **para cada valor de X**, para así poder representarla:\n",
    "\n",
    "y_mean = [np.mean(y_act) for i in range (1, len(x_list)+1)]"
   ]
  },
  {
   "cell_type": "code",
   "execution_count": 87,
   "metadata": {},
   "outputs": [
    {
     "data": {
      "text/plain": [
       "Text(0.5, 1.0, 'Valor actual vs Predicción')"
      ]
     },
     "execution_count": 87,
     "metadata": {},
     "output_type": "execute_result"
    },
    {
     "data": {
      "image/png": "[encoded data removed]",
      "text/plain": [
       "<Figure size 432x288 with 1 Axes>"
      ]
     },
     "metadata": {
      "needs_background": "light"
     },
     "output_type": "display_data"
    }
   ],
   "source": [
    "%matplotlib inline\n",
    "\n",
    "plt.plot(x,y_pre) #Predicción\n",
    "plt.plot(x,y_act,\"ro\") #Actuales\n",
    "plt.plot(x,y_mean,\"g\")\n",
    "plt.title(\"Valor actual vs Predicción\")"
   ]
  },
  {
   "cell_type": "markdown",
   "metadata": {},
   "source": [
    "# 3. Elaboración del modelo\n",
    "\n",
    "Obtenemos los estimadores Alpha y Beta para elaborar el modelo lineal:\n",
    "- **beta** = sum((xi - x_mean) * (yi - y_mean)) / sum((xi - x_mean)^2) \n",
    "- **alpha** = (y_mean - b * x_mean)"
   ]
  },
  {
   "cell_type": "code",
   "execution_count": 90,
   "metadata": {},
   "outputs": [
    {
     "data": {
      "text/plain": [
       "(1.6193199407028178, 8.791816490259663)"
      ]
     },
     "execution_count": 90,
     "metadata": {},
     "output_type": "execute_result"
    }
   ],
   "source": [
    "x_m  = np.mean(df[\"X\"])\n",
    "y_m  = np.mean(df[\"Y Actual\"])\n",
    "x_m, y_m"
   ]
  },
  {
   "cell_type": "code",
   "execution_count": 91,
   "metadata": {},
   "outputs": [
    {
     "data": {
      "text/plain": [
       "(5.643604955484872, 1.9441565904563631)"
      ]
     },
     "execution_count": 91,
     "metadata": {},
     "output_type": "execute_result"
    }
   ],
   "source": [
    "beta = sum((df[\"X\"] - x_m) * (df[\"Y Actual\"] - y_m)) / sum((df[\"X\"] - x_m)**2) \n",
    "alpha = y_m - beta * x_m\n",
    "\n",
    "alpha, beta"
   ]
  },
  {
   "cell_type": "markdown",
   "metadata": {},
   "source": [
    "**El modelo lineal obtenido por regresión es:**\n",
    "\n",
    "- y = 5.941563579796163 + 1.8858224961040246 * x"
   ]
  },
  {
   "cell_type": "code",
   "execution_count": 92,
   "metadata": {},
   "outputs": [
    {
     "data": {
      "text/html": [
       "<div>\n",
       "<style scoped>\n",
       "    .dataframe tbody tr th:only-of-type {\n",
       "        vertical-align: middle;\n",
       "    }\n",
       "\n",
       "    .dataframe tbody tr th {\n",
       "        vertical-align: top;\n",
       "    }\n",
       "\n",
       "    .dataframe thead th {\n",
       "        text-align: right;\n",
       "    }\n",
       "</style>\n",
       "<table border=\"1\" class=\"dataframe\">\n",
       "  <thead>\n",
       "    <tr style=\"text-align: right;\">\n",
       "      <th></th>\n",
       "      <th>X</th>\n",
       "      <th>Y Actual</th>\n",
       "      <th>Y Predicción</th>\n",
       "      <th>Y Model</th>\n",
       "    </tr>\n",
       "  </thead>\n",
       "  <tbody>\n",
       "    <tr>\n",
       "      <th>0</th>\n",
       "      <td>0.708496</td>\n",
       "      <td>5.821262</td>\n",
       "      <td>6.346143</td>\n",
       "      <td>7.021032</td>\n",
       "    </tr>\n",
       "    <tr>\n",
       "      <th>1</th>\n",
       "      <td>0.457188</td>\n",
       "      <td>7.290266</td>\n",
       "      <td>5.868657</td>\n",
       "      <td>6.532450</td>\n",
       "    </tr>\n",
       "    <tr>\n",
       "      <th>2</th>\n",
       "      <td>2.439371</td>\n",
       "      <td>8.390081</td>\n",
       "      <td>9.634804</td>\n",
       "      <td>10.386124</td>\n",
       "    </tr>\n",
       "  </tbody>\n",
       "</table>\n",
       "</div>"
      ],
      "text/plain": [
       "          X  Y Actual  Y Predicción    Y Model\n",
       "0  0.708496  5.821262      6.346143   7.021032\n",
       "1  0.457188  7.290266      5.868657   6.532450\n",
       "2  2.439371  8.390081      9.634804  10.386124"
      ]
     },
     "execution_count": 92,
     "metadata": {},
     "output_type": "execute_result"
    }
   ],
   "source": [
    "df[\"Y Model\"] = alpha + beta * df[\"X\"] \n",
    "df.head(3)"
   ]
  },
  {
   "cell_type": "markdown",
   "metadata": {},
   "source": [
    "# 2. Cálculo de errores\n",
    "### 2.1. SSR, SSD & SST:"
   ]
  },
  {
   "cell_type": "code",
   "execution_count": 95,
   "metadata": {},
   "outputs": [
    {
     "data": {
      "text/plain": [
       "(2008.0655171654762, 139.14432233274013, 2135.8929825364744)"
      ]
     },
     "execution_count": 95,
     "metadata": {},
     "output_type": "execute_result"
    }
   ],
   "source": [
    "SSR = sum((df[\"Y Predicción\"] - np.mean(y_act))**2)\n",
    "SSD = sum((df[\"Y Predicción\"] - df[\"Y Actual\"])**2)\n",
    "SST = sum((df[\"Y Actual\"] - np.mean(y_act))**2)\n",
    "\n",
    "SSR, SSD, SST"
   ]
  },
  {
   "cell_type": "markdown",
   "metadata": {},
   "source": [
    "### 2.2. R2:"
   ]
  },
  {
   "cell_type": "code",
   "execution_count": 96,
   "metadata": {},
   "outputs": [
    {
     "data": {
      "text/plain": [
       "0.9401526825472327"
      ]
     },
     "execution_count": 96,
     "metadata": {},
     "output_type": "execute_result"
    }
   ],
   "source": [
    "R2 = SSR/SST\n",
    "R2 #Modelo muy bueno, predicción muy acertada (1)"
   ]
  },
  {
   "cell_type": "markdown",
   "metadata": {},
   "source": [
    "### 2.3. Error estándar de los residuos (RSE):\n",
    "\n",
    "El error es de 1,19 sobre una media de 8,79. Relativamente pequeño.\n",
    "\n",
    "Existe un 13,5% de error en el modelo."
   ]
  },
  {
   "cell_type": "code",
   "execution_count": 98,
   "metadata": {},
   "outputs": [
    {
     "data": {
      "text/plain": [
       "(1.1915704023696925, 8.791816490259663)"
      ]
     },
     "execution_count": 98,
     "metadata": {},
     "output_type": "execute_result"
    }
   ],
   "source": [
    "RSE = np.sqrt(SSD/(len(df)-2))\n",
    "mean = np.mean(df[\"Y Actual\"])\n",
    "\n",
    "RSE, mean"
   ]
  },
  {
   "cell_type": "code",
   "execution_count": 101,
   "metadata": {},
   "outputs": [
    {
     "data": {
      "text/plain": [
       "13.553176453237139"
      ]
     },
     "execution_count": 101,
     "metadata": {},
     "output_type": "execute_result"
    }
   ],
   "source": [
    "error = (RSE / np.mean(df[\"Y Actual\"])) * 100 \n",
    "error"
   ]
  }
 ],
 "metadata": {
  "kernelspec": {
   "display_name": "Python 3",
   "language": "python",
   "name": "python3"
  },
  "language_info": {
   "codemirror_mode": {
    "name": "ipython",
    "version": 3
   },
   "file_extension": ".py",
   "mimetype": "text/x-python",
   "name": "python",
   "nbconvert_exporter": "python",
   "pygments_lexer": "ipython3",
   "version": "3.8.5"
  }
 },
 "nbformat": 4,
 "nbformat_minor": 4
}
