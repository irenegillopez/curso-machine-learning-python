{
 "cells": [
  {
   "cell_type": "markdown",
   "metadata": {},
   "source": [
    "# Sistemas de recomendación\n",
    "\n",
    "Aplicado a un dataset de películas"
   ]
  },
  {
   "cell_type": "markdown",
   "metadata": {},
   "source": [
    "# 0. Preparación previa"
   ]
  },
  {
   "cell_type": "code",
   "execution_count": 117,
   "metadata": {},
   "outputs": [],
   "source": [
    "import pandas as pd\n",
    "import matplotlib.pyplot as plt\n",
    "import numpy as np\n",
    "from sklearn.model_selection import train_test_split\n",
    "import sklearn\n",
    "from sklearn.metrics import mean_squared_error\n",
    "from sklearn.neighbors import NearestNeighbors"
   ]
  },
  {
   "cell_type": "code",
   "execution_count": 118,
   "metadata": {},
   "outputs": [
    {
     "name": "stdout",
     "output_type": "stream",
     "text": [
      "(100000, 4)\n"
     ]
    },
    {
     "data": {
      "text/html": [
       "<div>\n",
       "<style scoped>\n",
       "    .dataframe tbody tr th:only-of-type {\n",
       "        vertical-align: middle;\n",
       "    }\n",
       "\n",
       "    .dataframe tbody tr th {\n",
       "        vertical-align: top;\n",
       "    }\n",
       "\n",
       "    .dataframe thead th {\n",
       "        text-align: right;\n",
       "    }\n",
       "</style>\n",
       "<table border=\"1\" class=\"dataframe\">\n",
       "  <thead>\n",
       "    <tr style=\"text-align: right;\">\n",
       "      <th></th>\n",
       "      <th>User ID</th>\n",
       "      <th>Movie ID</th>\n",
       "      <th>Rating</th>\n",
       "      <th>TimeStamp</th>\n",
       "    </tr>\n",
       "  </thead>\n",
       "  <tbody>\n",
       "    <tr>\n",
       "      <th>0</th>\n",
       "      <td>196</td>\n",
       "      <td>242</td>\n",
       "      <td>3</td>\n",
       "      <td>881250949</td>\n",
       "    </tr>\n",
       "    <tr>\n",
       "      <th>1</th>\n",
       "      <td>186</td>\n",
       "      <td>302</td>\n",
       "      <td>3</td>\n",
       "      <td>891717742</td>\n",
       "    </tr>\n",
       "    <tr>\n",
       "      <th>2</th>\n",
       "      <td>22</td>\n",
       "      <td>377</td>\n",
       "      <td>1</td>\n",
       "      <td>878887116</td>\n",
       "    </tr>\n",
       "    <tr>\n",
       "      <th>3</th>\n",
       "      <td>244</td>\n",
       "      <td>51</td>\n",
       "      <td>2</td>\n",
       "      <td>880606923</td>\n",
       "    </tr>\n",
       "    <tr>\n",
       "      <th>4</th>\n",
       "      <td>166</td>\n",
       "      <td>346</td>\n",
       "      <td>1</td>\n",
       "      <td>886397596</td>\n",
       "    </tr>\n",
       "  </tbody>\n",
       "</table>\n",
       "</div>"
      ],
      "text/plain": [
       "   User ID  Movie ID  Rating  TimeStamp\n",
       "0      196       242       3  881250949\n",
       "1      186       302       3  891717742\n",
       "2       22       377       1  878887116\n",
       "3      244        51       2  880606923\n",
       "4      166       346       1  886397596"
      ]
     },
     "execution_count": 118,
     "metadata": {},
     "output_type": "execute_result"
    }
   ],
   "source": [
    "mainpath = \"/Users/irene/Documents/GitHub/python-ml-course/datasets\"  #Ruta ficheros\n",
    "filename = \"ml-100k/u.data.csv\" #Fichero a abrir\n",
    "fullpath = mainpath + \"/\" + filename #Ruta completa\n",
    "\n",
    "column_names = ['User ID', 'Movie ID', 'Rating', 'TimeStamp']\n",
    "\n",
    "df = pd.read_csv(fullpath, sep=\"\\t\", header=None, names = column_names)\n",
    "print(df.shape) #tamaño dataset\n",
    "\n",
    "df.head()"
   ]
  },
  {
   "cell_type": "markdown",
   "metadata": {},
   "source": [
    "# 1. Sistema de recomendación"
   ]
  },
  {
   "cell_type": "markdown",
   "metadata": {},
   "source": [
    "## 1.1. Análisis exploratorio de los datos"
   ]
  },
  {
   "cell_type": "code",
   "execution_count": 119,
   "metadata": {},
   "outputs": [
    {
     "data": {
      "text/plain": [
       "(array([ 6110.,     0., 11370.,     0.,     0., 27145.,     0., 34174.,\n",
       "            0., 21201.]),\n",
       " array([1. , 1.4, 1.8, 2.2, 2.6, 3. , 3.4, 3.8, 4.2, 4.6, 5. ]),\n",
       " <BarContainer object of 10 artists>)"
      ]
     },
     "execution_count": 119,
     "metadata": {},
     "output_type": "execute_result"
    },
    {
     "data": {
      "image/png": "[encoded data removed]",
      "text/plain": [
       "<Figure size 432x288 with 1 Axes>"
      ]
     },
     "metadata": {
      "needs_background": "light"
     },
     "output_type": "display_data"
    }
   ],
   "source": [
    "plt.hist(df.Rating) #Para ver cómo se distribuyen las valoraciones"
   ]
  },
  {
   "cell_type": "code",
   "execution_count": 120,
   "metadata": {},
   "outputs": [
    {
     "data": {
      "text/plain": [
       "Rating\n",
       "1     6110\n",
       "2    11370\n",
       "3    27145\n",
       "4    34174\n",
       "5    21201\n",
       "Name: User ID, dtype: int64"
      ]
     },
     "execution_count": 120,
     "metadata": {},
     "output_type": "execute_result"
    }
   ],
   "source": [
    "df.groupby([df.Rating])[\"User ID\"].count() #Cuántos usuarios han votado cada una de ellas, es lo mismo que el histograma anterior"
   ]
  },
  {
   "cell_type": "code",
   "execution_count": 121,
   "metadata": {},
   "outputs": [
    {
     "data": {
      "text/plain": [
       "(array([1.146e+03, 2.490e+02, 1.390e+02, 6.700e+01, 3.800e+01, 2.400e+01,\n",
       "        7.000e+00, 5.000e+00, 6.000e+00, 1.000e+00]),\n",
       " array([  1. ,  59.2, 117.4, 175.6, 233.8, 292. , 350.2, 408.4, 466.6,\n",
       "        524.8, 583. ]),\n",
       " <BarContainer object of 10 artists>)"
      ]
     },
     "execution_count": 121,
     "metadata": {},
     "output_type": "execute_result"
    },
    {
     "data": {
      "image/png": "[encoded data removed]",
      "text/plain": [
       "<Figure size 432x288 with 1 Axes>"
      ]
     },
     "metadata": {
      "needs_background": "light"
     },
     "output_type": "display_data"
    }
   ],
   "source": [
    "plt.hist(df.groupby([\"Movie ID\"])[\"Movie ID\"].count()) #Hay películas que han sido más vistas que otras"
   ]
  },
  {
   "cell_type": "markdown",
   "metadata": {},
   "source": [
    "## 1.2. Representación en forma matricial\n",
    "\n",
    "Necesitamos tener una matriz de recomendaciones, donde filas = usuarios, y columnas = películas, la combinación de ambas es el rating que ha dado ese usuario a esa película"
   ]
  },
  {
   "cell_type": "code",
   "execution_count": 122,
   "metadata": {},
   "outputs": [
    {
     "name": "stdout",
     "output_type": "stream",
     "text": [
      "El nº de usuarios es de: 943\n",
      "El nº de películas es de: 1682\n"
     ]
    }
   ],
   "source": [
    "#1ero averiguamos cuántos usuarios únicos hay\n",
    "\n",
    "n_users = df[\"User ID\"].unique().shape[0]\n",
    "n_movies = df[\"Movie ID\"].unique().shape[0]\n",
    "\n",
    "print(\"El nº de usuarios es de: \" + str(n_users))\n",
    "print(\"El nº de películas es de: \" + str(n_movies))"
   ]
  },
  {
   "cell_type": "code",
   "execution_count": 123,
   "metadata": {},
   "outputs": [
    {
     "data": {
      "text/plain": [
       "array([[0., 0., 0., ..., 0., 0., 0.],\n",
       "       [0., 0., 0., ..., 0., 0., 0.],\n",
       "       [0., 0., 0., ..., 0., 0., 0.],\n",
       "       ...,\n",
       "       [0., 0., 0., ..., 0., 0., 0.],\n",
       "       [0., 0., 0., ..., 0., 0., 0.],\n",
       "       [0., 0., 0., ..., 0., 0., 0.]])"
      ]
     },
     "execution_count": 123,
     "metadata": {},
     "output_type": "execute_result"
    }
   ],
   "source": [
    "#matriz de valoraciones con 0's\n",
    "\n",
    "ratings = np.zeros((n_users,n_movies))\n",
    "ratings"
   ]
  },
  {
   "cell_type": "code",
   "execution_count": 124,
   "metadata": {},
   "outputs": [
    {
     "data": {
      "text/plain": [
       "array([[5., 3., 4., ..., 0., 0., 0.],\n",
       "       [4., 0., 0., ..., 0., 0., 0.],\n",
       "       [0., 0., 0., ..., 0., 0., 0.],\n",
       "       ...,\n",
       "       [5., 0., 0., ..., 0., 0., 0.],\n",
       "       [0., 0., 0., ..., 0., 0., 0.],\n",
       "       [0., 5., 0., ..., 0., 0., 0.]])"
      ]
     },
     "execution_count": 124,
     "metadata": {},
     "output_type": "execute_result"
    }
   ],
   "source": [
    "for row in df.itertuples(): #por cada fila dentro del dataframe original\n",
    "    ratings[row[1]-1, row[2]-1] = row[3] #empezamos en 0\n",
    "    \n",
    "ratings #encontramos una matriz llena de 0's, se les llama matriz spars"
   ]
  },
  {
   "cell_type": "code",
   "execution_count": 125,
   "metadata": {},
   "outputs": [
    {
     "name": "stdout",
     "output_type": "stream",
     "text": [
      "Coeficiente de sparseidad: 6.30%\n"
     ]
    }
   ],
   "source": [
    "#determinamos el coeficiente de sparseidad, es decir, qué % de la matriz NO tiene 0's\n",
    "\n",
    "sparsity = float(len(ratings.nonzero()[0]))\n",
    "sparsity /= (ratings.shape[0]*ratings.shape[1]) #dividimos por la longitud del array\n",
    "sparsity *= 100\n",
    "print(\"Coeficiente de sparseidad: {:4.2f}%\".format(sparsity))"
   ]
  },
  {
   "cell_type": "markdown",
   "metadata": {},
   "source": [
    "## 1.3. Creamos subconjuntos de entrenamiento y validación\n",
    "\n",
    "De la matriz de recomendaciones"
   ]
  },
  {
   "cell_type": "code",
   "execution_count": 126,
   "metadata": {},
   "outputs": [
    {
     "name": "stdout",
     "output_type": "stream",
     "text": [
      "Tenemos un dataset para entrenar de tamaño: (660, 1682)\n",
      "Tenemos un dataset para testear de tamaño: (283, 1682)\n"
     ]
    }
   ],
   "source": [
    "ratings_train, ratings_test = train_test_split(ratings, test_size = 0.3, random_state=42) #30%\n",
    "\n",
    "print(\"Tenemos un dataset para entrenar de tamaño: \" + str(ratings_train.shape))\n",
    "print(\"Tenemos un dataset para testear de tamaño: \" + str(ratings_test.shape))"
   ]
  },
  {
   "cell_type": "markdown",
   "metadata": {},
   "source": [
    "## 1.4 Filtro colaborativo\n",
    "### 1.4.1. Basado en Usuarios\n",
    "\n",
    "Para un usuario x, del que conocemos [las pelis que ha visto] y [la valoración que les ha dado] -> \n",
    "1. Buscamos usuarios similares -> que hayan visto pelis con valoración similar (para ello usaremos la distancia coseno)\n",
    "2. Haremos una suma ponderada de las pelis de esos usuarios para elegir la peli a recomendar.\n",
    "\n",
    "* Matriz de similaridad entre los usuarios (distancia del coseno, que da siempre valores entre 0 y 1) y cogemos los k vecinos + cercanos -> 0 es que son muy parecidos, 1 es que son muy diferentes. \n",
    "** Cambiamos los 0's por 1's para que sea más claro\n",
    "* Predecir la valoración desconocida de un ítem *i* para un usuario activo *u* basándonos en la suma ponderada de todas las valoraciones del resto de usuarios para dicho ítem.\n",
    "* Recomendaremos los nuevos ítems a los usuarios según lo establecido en los pasos anteriores."
   ]
  },
  {
   "cell_type": "markdown",
   "metadata": {},
   "source": [
    "#### 1. Matriz de similaridades"
   ]
  },
  {
   "cell_type": "code",
   "execution_count": 127,
   "metadata": {},
   "outputs": [
    {
     "data": {
      "text/plain": [
       "array([[1.        , 0.01775916, 0.        , ..., 0.28350676, 0.16604346,\n",
       "        0.        ],\n",
       "       [0.01775916, 1.        , 0.10949965, ..., 0.09149486, 0.10727161,\n",
       "        0.29149166],\n",
       "       [0.        , 0.10949965, 1.        , ..., 0.08713681, 0.        ,\n",
       "        0.28879086],\n",
       "       ...,\n",
       "       [0.28350676, 0.09149486, 0.08713681, ..., 1.        , 0.19793486,\n",
       "        0.03893564],\n",
       "       [0.16604346, 0.10727161, 0.        , ..., 0.19793486, 1.        ,\n",
       "        0.07977195],\n",
       "       [0.        , 0.29149166, 0.28879086, ..., 0.03893564, 0.07977195,\n",
       "        1.        ]])"
      ]
     },
     "execution_count": 127,
     "metadata": {},
     "output_type": "execute_result"
    }
   ],
   "source": [
    "sim_matrix = 1 - sklearn.metrics.pairwise.cosine_distances(ratings_test)\n",
    "sim_matrix #se comparan los usuarios contra sí mismos"
   ]
  },
  {
   "cell_type": "markdown",
   "metadata": {},
   "source": [
    "Ponderamos la matriz de distancias por los ratings para obtener las predicciones de las valoraciones que los usuarios harían a cada película."
   ]
  },
  {
   "cell_type": "code",
   "execution_count": 128,
   "metadata": {},
   "outputs": [
    {
     "data": {
      "text/plain": [
       "array([[2.47537469e+00, 7.01507002e-01, 3.70391107e-01, ...,\n",
       "        0.00000000e+00, 0.00000000e+00, 0.00000000e+00],\n",
       "       [1.73649392e+00, 2.54530419e-01, 2.29995340e-01, ...,\n",
       "        9.19630908e-03, 0.00000000e+00, 0.00000000e+00],\n",
       "       [1.27891613e+00, 2.42958428e-01, 1.52385690e-01, ...,\n",
       "        1.99425992e-02, 0.00000000e+00, 0.00000000e+00],\n",
       "       ...,\n",
       "       [2.32444820e+00, 6.51072887e-01, 3.72683157e-01, ...,\n",
       "        1.27657170e-03, 0.00000000e+00, 0.00000000e+00],\n",
       "       [2.03330183e+00, 4.94112870e-01, 3.04957161e-01, ...,\n",
       "        2.90605858e-03, 0.00000000e+00, 0.00000000e+00],\n",
       "       [1.03844171e+00, 2.22612289e-01, 1.27654854e-01, ...,\n",
       "        2.03317109e-02, 0.00000000e+00, 0.00000000e+00]])"
      ]
     },
     "execution_count": 128,
     "metadata": {},
     "output_type": "execute_result"
    }
   ],
   "source": [
    "#.dot = producto matricial\n",
    "\n",
    "users_predictions = sim_matrix.dot(ratings_test) / np.array([np.abs(sim_matrix).sum(axis=1)]).T\n",
    "users_predictions"
   ]
  },
  {
   "cell_type": "code",
   "execution_count": 129,
   "metadata": {},
   "outputs": [],
   "source": [
    "#Calculamos el error cuadrático restando las predicciones a los valores originales que no fueran 0\n",
    "\n",
    "def get_mse(preds, actuals): #predicciones y actuales\n",
    "    if preds.shape[0] != actuals.shape[0]: #nos quedamos con los que no eran 0\n",
    "        actuals = actuals.T\n",
    "    preds = preds[actuals.nonzero()].flatten() #con flatten pasamos a vector\n",
    "    actuals = actuals[actuals.nonzero()].flatten() \n",
    "    return mean_squared_error(preds, actuals)"
   ]
  },
  {
   "cell_type": "code",
   "execution_count": 130,
   "metadata": {},
   "outputs": [
    {
     "data": {
      "text/plain": [
       "7.51355110112698"
      ]
     },
     "execution_count": 130,
     "metadata": {},
     "output_type": "execute_result"
    }
   ],
   "source": [
    "get_mse(users_predictions, ratings_test)"
   ]
  },
  {
   "cell_type": "markdown",
   "metadata": {},
   "source": [
    "### 1.4.3. Basado en los KNN\n",
    "\n",
    "En el ejercicio anterior hemos tomado en cuenta TODOS los usuarios, ahora no, sólo consideramos los usuarios top k más similares"
   ]
  },
  {
   "cell_type": "code",
   "execution_count": 131,
   "metadata": {},
   "outputs": [],
   "source": [
    "k = 10 #top10"
   ]
  },
  {
   "cell_type": "code",
   "execution_count": 137,
   "metadata": {},
   "outputs": [
    {
     "data": {
      "text/plain": [
       "NearestNeighbors(metric='cosine', n_neighbors=10)"
      ]
     },
     "execution_count": 137,
     "metadata": {},
     "output_type": "execute_result"
    }
   ],
   "source": [
    "neighbors = NearestNeighbors(n_neighbors=k, metric='cosine') #usamos la similaridad del coseno\n",
    "neighbors.fit(ratings_train)"
   ]
  },
  {
   "cell_type": "code",
   "execution_count": 145,
   "metadata": {},
   "outputs": [
    {
     "name": "stdout",
     "output_type": "stream",
     "text": [
      "Los usuarios más cercanos al usuario 0 son: \n",
      "[  0 211  16 185 101 155 169 407 112 618]\n",
      "Las distancias con estos usuarios son: \n",
      "[1.         0.50219252 0.44215162 0.43034415 0.42836379 0.42479412\n",
      " 0.41794826 0.40773919 0.40501374 0.39989837]\n"
     ]
    }
   ],
   "source": [
    "top_k_distances, top_k_users = neighbors.kneighbors(ratings_train, return_distance=True)\n",
    "\n",
    "#Transformar las distancias en similitudes para ponderar\n",
    "top_k_sim = 1 - top_k_distances\n",
    "\n",
    "print(\"Los usuarios más cercanos al usuario 0 son: \")\n",
    "print(top_k_users[0])\n",
    "\n",
    "print(\"Las distancias con estos usuarios son: \")\n",
    "print(top_k_sim[0])"
   ]
  },
  {
   "cell_type": "code",
   "execution_count": 158,
   "metadata": {},
   "outputs": [],
   "source": [
    "#Ponderamos las valoraciones solo de los k_users\n",
    "users_predicts_k = np.zeros(ratings_train.shape) #matriz de 0's\n",
    "users_predicts_k.shape\n",
    "\n",
    "for i in range(ratings_train.shape[0]):# para cada usuario del conjunto de entrenamiento\n",
    "    users_predicts_k[i,:] = top_k_sim[i].dot(ratings_train[top_k_users[i]]) / np.sum(top_k_sim[i]) #dividimos para normalizar"
   ]
  },
  {
   "cell_type": "code",
   "execution_count": 147,
   "metadata": {},
   "outputs": [
    {
     "data": {
      "text/plain": [
       "2.7564466890655055"
      ]
     },
     "execution_count": 147,
     "metadata": {},
     "output_type": "execute_result"
    }
   ],
   "source": [
    "get_mse(users_predicts_k, ratings_train) #El error cuadrático medio mejora"
   ]
  },
  {
   "cell_type": "markdown",
   "metadata": {},
   "source": [
    "Usamos el modelo KKN entrenado con el conjunto de entrenamiento para obtener los k vecinos + cercanos del conjunto de test:"
   ]
  },
  {
   "cell_type": "code",
   "execution_count": 149,
   "metadata": {},
   "outputs": [
    {
     "data": {
      "text/plain": [
       "4.102396284374268"
      ]
     },
     "execution_count": 149,
     "metadata": {},
     "output_type": "execute_result"
    }
   ],
   "source": [
    "top_k_distances_test, top_k_users_test = neighbors.kneighbors(ratings_test)\n",
    "\n",
    "#Definir las similitudes asociadas\n",
    "top_k_sim_test = 1 - top_k_distances_test\n",
    "\n",
    "#Obtener las predicciones del conjunto de test:\n",
    "\n",
    "user_predicts_test_k = np.zeros(ratings_test.shape)\n",
    "\n",
    "for i in range(ratings_test.shape[0]):\n",
    "    user_predicts_test_k[i,:] = top_k_sim_test[i].dot(ratings_train[top_k_users_test[i]]) / np.sum(top_k_sim_test[i])\n",
    "    \n",
    "#Obtener el error del conjunto de test:\n",
    "\n",
    "get_mse(user_predicts_test_k, ratings_test)"
   ]
  },
  {
   "cell_type": "markdown",
   "metadata": {},
   "source": [
    "### 1.4.3. Basado en Películas (ítems)\n",
    "\n",
    "En lugar de basado en personas, nos basamos en las similaridades entre pelis"
   ]
  },
  {
   "cell_type": "code",
   "execution_count": 159,
   "metadata": {},
   "outputs": [
    {
     "data": {
      "text/plain": [
       "1682"
      ]
     },
     "execution_count": 159,
     "metadata": {},
     "output_type": "execute_result"
    }
   ],
   "source": [
    "n_movies = ratings_train.shape[1]\n",
    "n_movies #nº de películas"
   ]
  },
  {
   "cell_type": "code",
   "execution_count": 164,
   "metadata": {},
   "outputs": [
    {
     "name": "stdout",
     "output_type": "stream",
     "text": [
      "Las pelis más cercanas a la peli 0 son: \n",
      "[   0   49  180 ... 1589 1602 1679]\n",
      "Las distancias con estos usuarios son: \n",
      "[1.         0.72370191 0.69886672 ... 0.         0.         0.        ]\n"
     ]
    }
   ],
   "source": [
    "neighbors = NearestNeighbors(n_neighbors=n_movies, metric='cosine')\n",
    "neighbors.fit(ratings_train.T)\n",
    "\n",
    "\n",
    "top_k_distances, top_k_movies = neighbors.kneighbors(ratings_train.T, return_distance=True)\n",
    "\n",
    "#Transformar las distancias en similitudes para ponderar\n",
    "top_k_sim = 1 - top_k_distances\n",
    "\n",
    "print(\"Las pelis más cercanas a la peli 0 son: \")\n",
    "print(top_k_movies[0])\n",
    "\n",
    "print(\"Las distancias con estos usuarios son: \")\n",
    "print(top_k_sim[0])"
   ]
  },
  {
   "cell_type": "code",
   "execution_count": 167,
   "metadata": {},
   "outputs": [
    {
     "name": "stderr",
     "output_type": "stream",
     "text": [
      "<ipython-input-167-07c150a4ab27>:1: RuntimeWarning: divide by zero encountered in true_divide\n",
      "  item_preds = ratings_train.dot(top_k_sim) / np.array([np.abs(top_k_sim).sum(axis=1)])\n",
      "<ipython-input-167-07c150a4ab27>:1: RuntimeWarning: invalid value encountered in true_divide\n",
      "  item_preds = ratings_train.dot(top_k_sim) / np.array([np.abs(top_k_sim).sum(axis=1)])\n"
     ]
    },
    {
     "data": {
      "text/plain": [
       "9.581847066551608"
      ]
     },
     "execution_count": 167,
     "metadata": {},
     "output_type": "execute_result"
    }
   ],
   "source": [
    "item_preds = ratings_train.dot(top_k_sim) / np.array([np.abs(top_k_sim).sum(axis=1)])\n",
    "\n",
    "get_mse(item_preds, ratings_train)"
   ]
  },
  {
   "cell_type": "markdown",
   "metadata": {},
   "source": [
    "### Filtrado colaborativo basado en KNN"
   ]
  },
  {
   "cell_type": "code",
   "execution_count": 170,
   "metadata": {},
   "outputs": [
    {
     "name": "stderr",
     "output_type": "stream",
     "text": [
      "/opt/anaconda3/lib/python3.8/site-packages/sklearn/utils/validation.py:67: FutureWarning: Pass n_neighbors=30 as keyword args. From version 0.25 passing these as positional arguments will result in an error\n",
      "  warnings.warn(\"Pass {} as keyword args. From version 0.25 \"\n"
     ]
    }
   ],
   "source": [
    "k = 30\n",
    "neighbors = NearestNeighbors(k, metric='cosine')\n",
    "neighbors.fit(ratings_train.T)\n",
    "top_k_distances, top_k_items = neighbors.kneighbors(ratings_train.T, return_distance=True)"
   ]
  },
  {
   "cell_type": "code",
   "execution_count": null,
   "metadata": {},
   "outputs": [
    {
     "name": "stdout",
     "output_type": "stream",
     "text": [
      "iter 0\n",
      "iter 50\n",
      "iter 100\n",
      "iter 150\n",
      "iter 200\n",
      "iter 250\n",
      "iter 300\n",
      "iter 350\n",
      "iter 400\n",
      "iter 450\n",
      "iter 500\n",
      "iter 550\n",
      "iter 600\n",
      "iter 650\n",
      "iter 700\n",
      "iter 750\n",
      "iter 800\n",
      "iter 850\n",
      "iter 900\n",
      "iter 950\n",
      "iter 1000\n",
      "iter 1050\n"
     ]
    }
   ],
   "source": [
    "preds = np.zeros(ratings_train.T.shape)\n",
    "for i in range(ratings_train.T.shape[0]):\n",
    "    if(i%50==0):\n",
    "        print(\"iter \"+str(i))\n",
    "    den = 1\n",
    "    if (np.abs(top_k_distances[i]).sum(axis=0)>0):\n",
    "        den = np.abs(top_k_distances[i]).sum(axis=0)\n",
    "    preds[i, :] = top_k_distances[i].dot(ratings_train.T[top_k_items][i])/np.array([den]).T"
   ]
  },
  {
   "cell_type": "code",
   "execution_count": null,
   "metadata": {},
   "outputs": [],
   "source": [
    "get_mse(preds, ratings_train.T)"
   ]
  },
  {
   "cell_type": "code",
   "execution_count": null,
   "metadata": {},
   "outputs": [],
   "source": []
  }
 ],
 "metadata": {
  "kernelspec": {
   "display_name": "Python 3",
   "language": "python",
   "name": "python3"
  },
  "language_info": {
   "codemirror_mode": {
    "name": "ipython",
    "version": 3
   },
   "file_extension": ".py",
   "mimetype": "text/x-python",
   "name": "python",
   "nbconvert_exporter": "python",
   "pygments_lexer": "ipython3",
   "version": "3.8.5"
  }
 },
 "nbformat": 4,
 "nbformat_minor": 4
}
